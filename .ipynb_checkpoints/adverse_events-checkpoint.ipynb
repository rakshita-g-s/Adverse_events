{
 "cells": [
  {
   "cell_type": "code",
   "execution_count": 1,
   "id": "5053f27e",
   "metadata": {},
   "outputs": [],
   "source": [
    "import numpy as np\n",
    "import pandas as pd\n",
    "from pandas import DataFrame,Series\n",
    "import matplotlib.pyplot as plt\n",
    "import seaborn as sns\n",
    "import scipy.stats as stats\n",
    "import warnings\n",
    "warnings.filterwarnings('ignore')\n",
    "from sklearn.model_selection import train_test_split\n",
    "from sklearn.preprocessing import LabelEncoder\n",
    "from sklearn.impute import SimpleImputer"
   ]
  },
  {
   "cell_type": "code",
   "execution_count": 2,
   "id": "e0d5bdc3",
   "metadata": {},
   "outputs": [],
   "source": [
    "data=pd.read_csv(r\"C:\\Users\\raksh\\OneDrive\\Desktop\\Rakshita Sataraddi\\adverk\\adverse_events.csv\")\n",
    "df=pd.DataFrame(data)"
   ]
  },
  {
   "cell_type": "code",
   "execution_count": null,
   "id": "0cc1081d",
   "metadata": {},
   "outputs": [],
   "source": []
  },
  {
   "cell_type": "code",
   "execution_count": 3,
   "id": "12a833ed",
   "metadata": {},
   "outputs": [
    {
     "data": {
      "text/html": [
       "<div>\n",
       "<style scoped>\n",
       "    .dataframe tbody tr th:only-of-type {\n",
       "        vertical-align: middle;\n",
       "    }\n",
       "\n",
       "    .dataframe tbody tr th {\n",
       "        vertical-align: top;\n",
       "    }\n",
       "\n",
       "    .dataframe thead th {\n",
       "        text-align: right;\n",
       "    }\n",
       "</style>\n",
       "<table border=\"1\" class=\"dataframe\">\n",
       "  <thead>\n",
       "    <tr style=\"text-align: right;\">\n",
       "      <th></th>\n",
       "      <th>Exemption Number</th>\n",
       "      <th>Manufacturer Registration Number</th>\n",
       "      <th>Manufacturer Name</th>\n",
       "      <th>Report ID</th>\n",
       "      <th>Date of Event</th>\n",
       "      <th>Manufacturer Aware Date</th>\n",
       "      <th>Event Type</th>\n",
       "      <th>Device Problem Codes</th>\n",
       "      <th>Report Year</th>\n",
       "      <th>Report Quarter</th>\n",
       "      <th>Initial Report Flag</th>\n",
       "      <th>Device ID</th>\n",
       "      <th>Product Code</th>\n",
       "      <th>Brand Name</th>\n",
       "      <th>Model Number</th>\n",
       "      <th>Catalog Number</th>\n",
       "      <th>Implant Available for Evaluation</th>\n",
       "      <th>Implant Returned to Manufacturer</th>\n",
       "    </tr>\n",
       "  </thead>\n",
       "  <tbody>\n",
       "    <tr>\n",
       "      <th>0</th>\n",
       "      <td>NaN</td>\n",
       "      <td>9617229</td>\n",
       "      <td>ALLERGAN</td>\n",
       "      <td>200517.S2</td>\n",
       "      <td>2/16/2007</td>\n",
       "      <td>2/21/2007</td>\n",
       "      <td>IN</td>\n",
       "      <td>2616;1546</td>\n",
       "      <td>2019</td>\n",
       "      <td>1</td>\n",
       "      <td>S</td>\n",
       "      <td>45</td>\n",
       "      <td>FTR</td>\n",
       "      <td>Natrelle Silicone-Filled Breast Implants</td>\n",
       "      <td>45</td>\n",
       "      <td>45-550</td>\n",
       "      <td>2.0</td>\n",
       "      <td>2.0</td>\n",
       "    </tr>\n",
       "    <tr>\n",
       "      <th>1</th>\n",
       "      <td>2007014</td>\n",
       "      <td>9617229</td>\n",
       "      <td>ALLERGAN</td>\n",
       "      <td>244727.S1</td>\n",
       "      <td>09-10-2008</td>\n",
       "      <td>7/25/2012</td>\n",
       "      <td>IN</td>\n",
       "      <td>2682</td>\n",
       "      <td>2019</td>\n",
       "      <td>1</td>\n",
       "      <td>S</td>\n",
       "      <td>115</td>\n",
       "      <td>FTR</td>\n",
       "      <td>Natrelle Silicone-Filled Breast Implants</td>\n",
       "      <td>115</td>\n",
       "      <td>115-378</td>\n",
       "      <td>2.0</td>\n",
       "      <td>2.0</td>\n",
       "    </tr>\n",
       "    <tr>\n",
       "      <th>2</th>\n",
       "      <td>2007014</td>\n",
       "      <td>9617229</td>\n",
       "      <td>ALLERGAN</td>\n",
       "      <td>260070.S1</td>\n",
       "      <td>11-06-2012</td>\n",
       "      <td>3/26/2019</td>\n",
       "      <td>IN</td>\n",
       "      <td>2682</td>\n",
       "      <td>2019</td>\n",
       "      <td>1</td>\n",
       "      <td>S</td>\n",
       "      <td>15</td>\n",
       "      <td>FTR</td>\n",
       "      <td>Natrelle Silicone-Filled Breast Implants</td>\n",
       "      <td>15</td>\n",
       "      <td>15-371</td>\n",
       "      <td>2.0</td>\n",
       "      <td>2.0</td>\n",
       "    </tr>\n",
       "    <tr>\n",
       "      <th>3</th>\n",
       "      <td>2007014</td>\n",
       "      <td>9617229</td>\n",
       "      <td>ALLERGAN</td>\n",
       "      <td>270524.S1</td>\n",
       "      <td>10/14/2008</td>\n",
       "      <td>10/14/2008</td>\n",
       "      <td>IN</td>\n",
       "      <td>3189</td>\n",
       "      <td>2019</td>\n",
       "      <td>1</td>\n",
       "      <td>S</td>\n",
       "      <td>115</td>\n",
       "      <td>FTR</td>\n",
       "      <td>Natrelle Silicone-Filled Breast Implants</td>\n",
       "      <td>115</td>\n",
       "      <td>115-378</td>\n",
       "      <td>2.0</td>\n",
       "      <td>2.0</td>\n",
       "    </tr>\n",
       "    <tr>\n",
       "      <th>4</th>\n",
       "      <td>2007014</td>\n",
       "      <td>9617229</td>\n",
       "      <td>ALLERGAN</td>\n",
       "      <td>391915.S1</td>\n",
       "      <td>5/22/2009</td>\n",
       "      <td>5/22/2009</td>\n",
       "      <td>IN</td>\n",
       "      <td>1546</td>\n",
       "      <td>2019</td>\n",
       "      <td>1</td>\n",
       "      <td>S</td>\n",
       "      <td>20</td>\n",
       "      <td>FTR</td>\n",
       "      <td>Natrelle Silicone-Filled Breast Implants</td>\n",
       "      <td>20</td>\n",
       "      <td>20-600</td>\n",
       "      <td>2.0</td>\n",
       "      <td>2.0</td>\n",
       "    </tr>\n",
       "  </tbody>\n",
       "</table>\n",
       "</div>"
      ],
      "text/plain": [
       "  Exemption Number  Manufacturer Registration Number Manufacturer Name  \\\n",
       "0              NaN                           9617229          ALLERGAN   \n",
       "1          2007014                           9617229          ALLERGAN   \n",
       "2          2007014                           9617229          ALLERGAN   \n",
       "3          2007014                           9617229          ALLERGAN   \n",
       "4          2007014                           9617229          ALLERGAN   \n",
       "\n",
       "   Report ID Date of Event Manufacturer Aware Date Event Type  \\\n",
       "0  200517.S2     2/16/2007               2/21/2007         IN   \n",
       "1  244727.S1    09-10-2008               7/25/2012         IN   \n",
       "2  260070.S1    11-06-2012               3/26/2019         IN   \n",
       "3  270524.S1    10/14/2008              10/14/2008         IN   \n",
       "4  391915.S1     5/22/2009               5/22/2009         IN   \n",
       "\n",
       "  Device Problem Codes  Report Year  Report Quarter Initial Report Flag  \\\n",
       "0            2616;1546         2019               1                   S   \n",
       "1                 2682         2019               1                   S   \n",
       "2                 2682         2019               1                   S   \n",
       "3                 3189         2019               1                   S   \n",
       "4                 1546         2019               1                   S   \n",
       "\n",
       "  Device ID Product Code                                Brand Name  \\\n",
       "0        45          FTR  Natrelle Silicone-Filled Breast Implants   \n",
       "1       115          FTR  Natrelle Silicone-Filled Breast Implants   \n",
       "2        15          FTR  Natrelle Silicone-Filled Breast Implants   \n",
       "3       115          FTR  Natrelle Silicone-Filled Breast Implants   \n",
       "4        20          FTR  Natrelle Silicone-Filled Breast Implants   \n",
       "\n",
       "  Model Number Catalog Number  Implant Available for Evaluation  \\\n",
       "0           45         45-550                               2.0   \n",
       "1          115        115-378                               2.0   \n",
       "2           15         15-371                               2.0   \n",
       "3          115        115-378                               2.0   \n",
       "4           20         20-600                               2.0   \n",
       "\n",
       "   Implant Returned to Manufacturer  \n",
       "0                               2.0  \n",
       "1                               2.0  \n",
       "2                               2.0  \n",
       "3                               2.0  \n",
       "4                               2.0  "
      ]
     },
     "execution_count": 3,
     "metadata": {},
     "output_type": "execute_result"
    }
   ],
   "source": [
    "data.head()"
   ]
  },
  {
   "cell_type": "code",
   "execution_count": 4,
   "id": "8eb3cd84",
   "metadata": {},
   "outputs": [
    {
     "data": {
      "text/plain": [
       "(12618, 18)"
      ]
     },
     "execution_count": 4,
     "metadata": {},
     "output_type": "execute_result"
    }
   ],
   "source": [
    "data.shape"
   ]
  },
  {
   "cell_type": "code",
   "execution_count": 5,
   "id": "2618fe6c",
   "metadata": {},
   "outputs": [
    {
     "data": {
      "text/html": [
       "<div>\n",
       "<style scoped>\n",
       "    .dataframe tbody tr th:only-of-type {\n",
       "        vertical-align: middle;\n",
       "    }\n",
       "\n",
       "    .dataframe tbody tr th {\n",
       "        vertical-align: top;\n",
       "    }\n",
       "\n",
       "    .dataframe thead th {\n",
       "        text-align: right;\n",
       "    }\n",
       "</style>\n",
       "<table border=\"1\" class=\"dataframe\">\n",
       "  <thead>\n",
       "    <tr style=\"text-align: right;\">\n",
       "      <th></th>\n",
       "      <th>Manufacturer Registration Number</th>\n",
       "      <th>Report Year</th>\n",
       "      <th>Report Quarter</th>\n",
       "      <th>Implant Available for Evaluation</th>\n",
       "      <th>Implant Returned to Manufacturer</th>\n",
       "    </tr>\n",
       "  </thead>\n",
       "  <tbody>\n",
       "    <tr>\n",
       "      <th>count</th>\n",
       "      <td>1.261800e+04</td>\n",
       "      <td>12618.000000</td>\n",
       "      <td>12618.000000</td>\n",
       "      <td>6638.000000</td>\n",
       "      <td>6638.000000</td>\n",
       "    </tr>\n",
       "    <tr>\n",
       "      <th>mean</th>\n",
       "      <td>1.295224e+08</td>\n",
       "      <td>2014.023776</td>\n",
       "      <td>1.577429</td>\n",
       "      <td>2.165863</td>\n",
       "      <td>1.617957</td>\n",
       "    </tr>\n",
       "    <tr>\n",
       "      <th>std</th>\n",
       "      <td>6.001455e+08</td>\n",
       "      <td>6.576399</td>\n",
       "      <td>1.009068</td>\n",
       "      <td>1.799268</td>\n",
       "      <td>0.485924</td>\n",
       "    </tr>\n",
       "    <tr>\n",
       "      <th>min</th>\n",
       "      <td>1.038806e+06</td>\n",
       "      <td>1999.000000</td>\n",
       "      <td>1.000000</td>\n",
       "      <td>1.000000</td>\n",
       "      <td>1.000000</td>\n",
       "    </tr>\n",
       "    <tr>\n",
       "      <th>25%</th>\n",
       "      <td>2.020394e+06</td>\n",
       "      <td>2009.000000</td>\n",
       "      <td>1.000000</td>\n",
       "      <td>1.000000</td>\n",
       "      <td>1.000000</td>\n",
       "    </tr>\n",
       "    <tr>\n",
       "      <th>50%</th>\n",
       "      <td>2.183157e+06</td>\n",
       "      <td>2019.000000</td>\n",
       "      <td>1.000000</td>\n",
       "      <td>2.000000</td>\n",
       "      <td>2.000000</td>\n",
       "    </tr>\n",
       "    <tr>\n",
       "      <th>75%</th>\n",
       "      <td>9.617229e+06</td>\n",
       "      <td>2019.000000</td>\n",
       "      <td>2.000000</td>\n",
       "      <td>2.000000</td>\n",
       "      <td>2.000000</td>\n",
       "    </tr>\n",
       "    <tr>\n",
       "      <th>max</th>\n",
       "      <td>3.009698e+09</td>\n",
       "      <td>2019.000000</td>\n",
       "      <td>4.000000</td>\n",
       "      <td>7.000000</td>\n",
       "      <td>2.000000</td>\n",
       "    </tr>\n",
       "  </tbody>\n",
       "</table>\n",
       "</div>"
      ],
      "text/plain": [
       "       Manufacturer Registration Number   Report Year  Report Quarter  \\\n",
       "count                      1.261800e+04  12618.000000    12618.000000   \n",
       "mean                       1.295224e+08   2014.023776        1.577429   \n",
       "std                        6.001455e+08      6.576399        1.009068   \n",
       "min                        1.038806e+06   1999.000000        1.000000   \n",
       "25%                        2.020394e+06   2009.000000        1.000000   \n",
       "50%                        2.183157e+06   2019.000000        1.000000   \n",
       "75%                        9.617229e+06   2019.000000        2.000000   \n",
       "max                        3.009698e+09   2019.000000        4.000000   \n",
       "\n",
       "       Implant Available for Evaluation  Implant Returned to Manufacturer  \n",
       "count                       6638.000000                       6638.000000  \n",
       "mean                           2.165863                          1.617957  \n",
       "std                            1.799268                          0.485924  \n",
       "min                            1.000000                          1.000000  \n",
       "25%                            1.000000                          1.000000  \n",
       "50%                            2.000000                          2.000000  \n",
       "75%                            2.000000                          2.000000  \n",
       "max                            7.000000                          2.000000  "
      ]
     },
     "execution_count": 5,
     "metadata": {},
     "output_type": "execute_result"
    }
   ],
   "source": [
    "df.describe()"
   ]
  },
  {
   "cell_type": "code",
   "execution_count": 6,
   "id": "02110134",
   "metadata": {},
   "outputs": [
    {
     "name": "stdout",
     "output_type": "stream",
     "text": [
      "<class 'pandas.core.frame.DataFrame'>\n",
      "RangeIndex: 12618 entries, 0 to 12617\n",
      "Data columns (total 18 columns):\n",
      " #   Column                            Non-Null Count  Dtype  \n",
      "---  ------                            --------------  -----  \n",
      " 0   Exemption Number                  12617 non-null  object \n",
      " 1   Manufacturer Registration Number  12618 non-null  int64  \n",
      " 2   Manufacturer Name                 12618 non-null  object \n",
      " 3   Report ID                         12618 non-null  object \n",
      " 4   Date of Event                     6638 non-null   object \n",
      " 5   Manufacturer Aware Date           12618 non-null  object \n",
      " 6   Event Type                        12618 non-null  object \n",
      " 7   Device Problem Codes              12095 non-null  object \n",
      " 8   Report Year                       12618 non-null  int64  \n",
      " 9   Report Quarter                    12618 non-null  int64  \n",
      " 10  Initial Report Flag               12618 non-null  object \n",
      " 11  Device ID                         12618 non-null  object \n",
      " 12  Product Code                      12618 non-null  object \n",
      " 13  Brand Name                        11557 non-null  object \n",
      " 14  Model Number                      5582 non-null   object \n",
      " 15  Catalog Number                    7064 non-null   object \n",
      " 16  Implant Available for Evaluation  6638 non-null   float64\n",
      " 17  Implant Returned to Manufacturer  6638 non-null   float64\n",
      "dtypes: float64(2), int64(3), object(13)\n",
      "memory usage: 1.7+ MB\n"
     ]
    }
   ],
   "source": [
    "df.info()"
   ]
  },
  {
   "cell_type": "code",
   "execution_count": 7,
   "id": "1b191605",
   "metadata": {},
   "outputs": [
    {
     "data": {
      "text/plain": [
       "Exemption Number                       1\n",
       "Manufacturer Registration Number       0\n",
       "Manufacturer Name                      0\n",
       "Report ID                              0\n",
       "Date of Event                       5980\n",
       "Manufacturer Aware Date                0\n",
       "Event Type                             0\n",
       "Device Problem Codes                 523\n",
       "Report Year                            0\n",
       "Report Quarter                         0\n",
       "Initial Report Flag                    0\n",
       "Device ID                              0\n",
       "Product Code                           0\n",
       "Brand Name                          1061\n",
       "Model Number                        7036\n",
       "Catalog Number                      5554\n",
       "Implant Available for Evaluation    5980\n",
       "Implant Returned to Manufacturer    5980\n",
       "dtype: int64"
      ]
     },
     "execution_count": 7,
     "metadata": {},
     "output_type": "execute_result"
    }
   ],
   "source": [
    "df.isnull().sum()"
   ]
  },
  {
   "cell_type": "code",
   "execution_count": 8,
   "id": "fef736ea",
   "metadata": {},
   "outputs": [
    {
     "data": {
      "text/html": [
       "<div>\n",
       "<style scoped>\n",
       "    .dataframe tbody tr th:only-of-type {\n",
       "        vertical-align: middle;\n",
       "    }\n",
       "\n",
       "    .dataframe tbody tr th {\n",
       "        vertical-align: top;\n",
       "    }\n",
       "\n",
       "    .dataframe thead th {\n",
       "        text-align: right;\n",
       "    }\n",
       "</style>\n",
       "<table border=\"1\" class=\"dataframe\">\n",
       "  <thead>\n",
       "    <tr style=\"text-align: right;\">\n",
       "      <th></th>\n",
       "      <th>Manufacturer Registration Number</th>\n",
       "      <th>Report Year</th>\n",
       "      <th>Report Quarter</th>\n",
       "      <th>Implant Available for Evaluation</th>\n",
       "      <th>Implant Returned to Manufacturer</th>\n",
       "    </tr>\n",
       "  </thead>\n",
       "  <tbody>\n",
       "    <tr>\n",
       "      <th>count</th>\n",
       "      <td>1.261800e+04</td>\n",
       "      <td>12618.000000</td>\n",
       "      <td>12618.000000</td>\n",
       "      <td>6638.000000</td>\n",
       "      <td>6638.000000</td>\n",
       "    </tr>\n",
       "    <tr>\n",
       "      <th>mean</th>\n",
       "      <td>1.295224e+08</td>\n",
       "      <td>2014.023776</td>\n",
       "      <td>1.577429</td>\n",
       "      <td>2.165863</td>\n",
       "      <td>1.617957</td>\n",
       "    </tr>\n",
       "    <tr>\n",
       "      <th>std</th>\n",
       "      <td>6.001455e+08</td>\n",
       "      <td>6.576399</td>\n",
       "      <td>1.009068</td>\n",
       "      <td>1.799268</td>\n",
       "      <td>0.485924</td>\n",
       "    </tr>\n",
       "    <tr>\n",
       "      <th>min</th>\n",
       "      <td>1.038806e+06</td>\n",
       "      <td>1999.000000</td>\n",
       "      <td>1.000000</td>\n",
       "      <td>1.000000</td>\n",
       "      <td>1.000000</td>\n",
       "    </tr>\n",
       "    <tr>\n",
       "      <th>25%</th>\n",
       "      <td>2.020394e+06</td>\n",
       "      <td>2009.000000</td>\n",
       "      <td>1.000000</td>\n",
       "      <td>1.000000</td>\n",
       "      <td>1.000000</td>\n",
       "    </tr>\n",
       "    <tr>\n",
       "      <th>50%</th>\n",
       "      <td>2.183157e+06</td>\n",
       "      <td>2019.000000</td>\n",
       "      <td>1.000000</td>\n",
       "      <td>2.000000</td>\n",
       "      <td>2.000000</td>\n",
       "    </tr>\n",
       "    <tr>\n",
       "      <th>75%</th>\n",
       "      <td>9.617229e+06</td>\n",
       "      <td>2019.000000</td>\n",
       "      <td>2.000000</td>\n",
       "      <td>2.000000</td>\n",
       "      <td>2.000000</td>\n",
       "    </tr>\n",
       "    <tr>\n",
       "      <th>max</th>\n",
       "      <td>3.009698e+09</td>\n",
       "      <td>2019.000000</td>\n",
       "      <td>4.000000</td>\n",
       "      <td>7.000000</td>\n",
       "      <td>2.000000</td>\n",
       "    </tr>\n",
       "  </tbody>\n",
       "</table>\n",
       "</div>"
      ],
      "text/plain": [
       "       Manufacturer Registration Number   Report Year  Report Quarter  \\\n",
       "count                      1.261800e+04  12618.000000    12618.000000   \n",
       "mean                       1.295224e+08   2014.023776        1.577429   \n",
       "std                        6.001455e+08      6.576399        1.009068   \n",
       "min                        1.038806e+06   1999.000000        1.000000   \n",
       "25%                        2.020394e+06   2009.000000        1.000000   \n",
       "50%                        2.183157e+06   2019.000000        1.000000   \n",
       "75%                        9.617229e+06   2019.000000        2.000000   \n",
       "max                        3.009698e+09   2019.000000        4.000000   \n",
       "\n",
       "       Implant Available for Evaluation  Implant Returned to Manufacturer  \n",
       "count                       6638.000000                       6638.000000  \n",
       "mean                           2.165863                          1.617957  \n",
       "std                            1.799268                          0.485924  \n",
       "min                            1.000000                          1.000000  \n",
       "25%                            1.000000                          1.000000  \n",
       "50%                            2.000000                          2.000000  \n",
       "75%                            2.000000                          2.000000  \n",
       "max                            7.000000                          2.000000  "
      ]
     },
     "execution_count": 8,
     "metadata": {},
     "output_type": "execute_result"
    }
   ],
   "source": [
    "df.describe()"
   ]
  },
  {
   "cell_type": "code",
   "execution_count": 9,
   "id": "15617050",
   "metadata": {},
   "outputs": [],
   "source": [
    "imputer = SimpleImputer(strategy='mean')\n",
    "numerical_cols = data.select_dtypes(include=['float64', 'int64']).columns\n",
    "data[numerical_cols] = imputer.fit_transform(data[numerical_cols])"
   ]
  },
  {
   "cell_type": "code",
   "execution_count": 10,
   "id": "082f6bb1",
   "metadata": {},
   "outputs": [],
   "source": [
    "label_encoder = LabelEncoder()\n",
    "categorical_cols = data.select_dtypes(include=['object']).columns\n",
    "for col in categorical_cols:\n",
    "    data[col] = label_encoder.fit_transform(data[col])"
   ]
  },
  {
   "cell_type": "code",
   "execution_count": 11,
   "id": "1160b946",
   "metadata": {},
   "outputs": [
    {
     "data": {
      "text/html": [
       "<div>\n",
       "<style scoped>\n",
       "    .dataframe tbody tr th:only-of-type {\n",
       "        vertical-align: middle;\n",
       "    }\n",
       "\n",
       "    .dataframe tbody tr th {\n",
       "        vertical-align: top;\n",
       "    }\n",
       "\n",
       "    .dataframe thead th {\n",
       "        text-align: right;\n",
       "    }\n",
       "</style>\n",
       "<table border=\"1\" class=\"dataframe\">\n",
       "  <thead>\n",
       "    <tr style=\"text-align: right;\">\n",
       "      <th></th>\n",
       "      <th>Exemption Number</th>\n",
       "      <th>Manufacturer Registration Number</th>\n",
       "      <th>Manufacturer Name</th>\n",
       "      <th>Report ID</th>\n",
       "      <th>Date of Event</th>\n",
       "      <th>Manufacturer Aware Date</th>\n",
       "      <th>Event Type</th>\n",
       "      <th>Device Problem Codes</th>\n",
       "      <th>Report Year</th>\n",
       "      <th>Report Quarter</th>\n",
       "      <th>Initial Report Flag</th>\n",
       "      <th>Device ID</th>\n",
       "      <th>Product Code</th>\n",
       "      <th>Brand Name</th>\n",
       "      <th>Model Number</th>\n",
       "      <th>Catalog Number</th>\n",
       "      <th>Implant Available for Evaluation</th>\n",
       "      <th>Implant Returned to Manufacturer</th>\n",
       "    </tr>\n",
       "  </thead>\n",
       "  <tbody>\n",
       "    <tr>\n",
       "      <th>0</th>\n",
       "      <td>16</td>\n",
       "      <td>9617229.0</td>\n",
       "      <td>0</td>\n",
       "      <td>5340</td>\n",
       "      <td>473</td>\n",
       "      <td>2931</td>\n",
       "      <td>2</td>\n",
       "      <td>314</td>\n",
       "      <td>2019.0</td>\n",
       "      <td>1.0</td>\n",
       "      <td>1</td>\n",
       "      <td>268</td>\n",
       "      <td>8</td>\n",
       "      <td>143</td>\n",
       "      <td>61</td>\n",
       "      <td>420</td>\n",
       "      <td>2.0</td>\n",
       "      <td>2.0</td>\n",
       "    </tr>\n",
       "    <tr>\n",
       "      <th>1</th>\n",
       "      <td>13</td>\n",
       "      <td>9617229.0</td>\n",
       "      <td>0</td>\n",
       "      <td>5380</td>\n",
       "      <td>220</td>\n",
       "      <td>3061</td>\n",
       "      <td>2</td>\n",
       "      <td>317</td>\n",
       "      <td>2019.0</td>\n",
       "      <td>1.0</td>\n",
       "      <td>1</td>\n",
       "      <td>53</td>\n",
       "      <td>8</td>\n",
       "      <td>143</td>\n",
       "      <td>34</td>\n",
       "      <td>81</td>\n",
       "      <td>2.0</td>\n",
       "      <td>2.0</td>\n",
       "    </tr>\n",
       "    <tr>\n",
       "      <th>2</th>\n",
       "      <td>13</td>\n",
       "      <td>9617229.0</td>\n",
       "      <td>0</td>\n",
       "      <td>5384</td>\n",
       "      <td>351</td>\n",
       "      <td>2980</td>\n",
       "      <td>2</td>\n",
       "      <td>317</td>\n",
       "      <td>2019.0</td>\n",
       "      <td>1.0</td>\n",
       "      <td>1</td>\n",
       "      <td>56</td>\n",
       "      <td>8</td>\n",
       "      <td>143</td>\n",
       "      <td>36</td>\n",
       "      <td>107</td>\n",
       "      <td>2.0</td>\n",
       "      <td>2.0</td>\n",
       "    </tr>\n",
       "    <tr>\n",
       "      <th>3</th>\n",
       "      <td>13</td>\n",
       "      <td>9617229.0</td>\n",
       "      <td>0</td>\n",
       "      <td>5387</td>\n",
       "      <td>308</td>\n",
       "      <td>2230</td>\n",
       "      <td>2</td>\n",
       "      <td>363</td>\n",
       "      <td>2019.0</td>\n",
       "      <td>1.0</td>\n",
       "      <td>1</td>\n",
       "      <td>53</td>\n",
       "      <td>8</td>\n",
       "      <td>143</td>\n",
       "      <td>34</td>\n",
       "      <td>81</td>\n",
       "      <td>2.0</td>\n",
       "      <td>2.0</td>\n",
       "    </tr>\n",
       "    <tr>\n",
       "      <th>4</th>\n",
       "      <td>13</td>\n",
       "      <td>9617229.0</td>\n",
       "      <td>0</td>\n",
       "      <td>5719</td>\n",
       "      <td>596</td>\n",
       "      <td>3017</td>\n",
       "      <td>2</td>\n",
       "      <td>238</td>\n",
       "      <td>2019.0</td>\n",
       "      <td>1.0</td>\n",
       "      <td>1</td>\n",
       "      <td>59</td>\n",
       "      <td>8</td>\n",
       "      <td>143</td>\n",
       "      <td>38</td>\n",
       "      <td>131</td>\n",
       "      <td>2.0</td>\n",
       "      <td>2.0</td>\n",
       "    </tr>\n",
       "  </tbody>\n",
       "</table>\n",
       "</div>"
      ],
      "text/plain": [
       "   Exemption Number  Manufacturer Registration Number  Manufacturer Name  \\\n",
       "0                16                         9617229.0                  0   \n",
       "1                13                         9617229.0                  0   \n",
       "2                13                         9617229.0                  0   \n",
       "3                13                         9617229.0                  0   \n",
       "4                13                         9617229.0                  0   \n",
       "\n",
       "   Report ID  Date of Event  Manufacturer Aware Date  Event Type  \\\n",
       "0       5340            473                     2931           2   \n",
       "1       5380            220                     3061           2   \n",
       "2       5384            351                     2980           2   \n",
       "3       5387            308                     2230           2   \n",
       "4       5719            596                     3017           2   \n",
       "\n",
       "   Device Problem Codes  Report Year  Report Quarter  Initial Report Flag  \\\n",
       "0                   314       2019.0             1.0                    1   \n",
       "1                   317       2019.0             1.0                    1   \n",
       "2                   317       2019.0             1.0                    1   \n",
       "3                   363       2019.0             1.0                    1   \n",
       "4                   238       2019.0             1.0                    1   \n",
       "\n",
       "   Device ID  Product Code  Brand Name  Model Number  Catalog Number  \\\n",
       "0        268             8         143            61             420   \n",
       "1         53             8         143            34              81   \n",
       "2         56             8         143            36             107   \n",
       "3         53             8         143            34              81   \n",
       "4         59             8         143            38             131   \n",
       "\n",
       "   Implant Available for Evaluation  Implant Returned to Manufacturer  \n",
       "0                               2.0                               2.0  \n",
       "1                               2.0                               2.0  \n",
       "2                               2.0                               2.0  \n",
       "3                               2.0                               2.0  \n",
       "4                               2.0                               2.0  "
      ]
     },
     "execution_count": 11,
     "metadata": {},
     "output_type": "execute_result"
    }
   ],
   "source": [
    "data.head()"
   ]
  },
  {
   "cell_type": "markdown",
   "id": "bb01dc21",
   "metadata": {},
   "source": [
    "# calculation of percentage ratio"
   ]
  },
  {
   "cell_type": "code",
   "execution_count": 12,
   "id": "d36135cb",
   "metadata": {},
   "outputs": [
    {
     "data": {
      "text/plain": [
       "2    6966\n",
       "3    5649\n",
       "1       2\n",
       "0       1\n",
       "Name: Event Type, dtype: int64"
      ]
     },
     "execution_count": 12,
     "metadata": {},
     "output_type": "execute_result"
    }
   ],
   "source": [
    "data['Event Type'].value_counts()"
   ]
  },
  {
   "cell_type": "code",
   "execution_count": 13,
   "id": "454fac31",
   "metadata": {},
   "outputs": [
    {
     "data": {
      "text/plain": [
       "2    0.552068\n",
       "3    0.447694\n",
       "1    0.000159\n",
       "0    0.000079\n",
       "Name: Event Type, dtype: float64"
      ]
     },
     "execution_count": 13,
     "metadata": {},
     "output_type": "execute_result"
    }
   ],
   "source": [
    "data['Event Type'].value_counts(normalize=True)"
   ]
  },
  {
   "cell_type": "markdown",
   "id": "bcfd4d54",
   "metadata": {},
   "source": [
    "# Analysis"
   ]
  },
  {
   "cell_type": "code",
   "execution_count": 14,
   "id": "302ba959",
   "metadata": {},
   "outputs": [
    {
     "name": "stdout",
     "output_type": "stream",
     "text": [
      "Classification Report:\n",
      "               precision    recall  f1-score   support\n",
      "\n",
      "           2       0.99      0.99      0.99      1419\n",
      "           3       0.99      0.99      0.99      1105\n",
      "\n",
      "    accuracy                           0.99      2524\n",
      "   macro avg       0.99      0.99      0.99      2524\n",
      "weighted avg       0.99      0.99      0.99      2524\n",
      "\n",
      "Accuracy: 0.9893026941362916\n"
     ]
    }
   ],
   "source": [
    "from sklearn.ensemble import RandomForestClassifier\n",
    "from sklearn.metrics import classification_report, accuracy_score\n",
    "\n",
    "# Define features and target\n",
    "X = data.drop('Event Type', axis=1)  # assuming 'event_type' is the column for event type\n",
    "y = data['Event Type']\n",
    "\n",
    "# Split into training and test sets\n",
    "X_train, X_test, y_train, y_test = train_test_split(X, y, test_size=0.2, random_state=42)\n",
    "\n",
    "# Train the model\n",
    "clf = RandomForestClassifier(n_estimators=100, random_state=42)\n",
    "clf.fit(X_train, y_train)\n",
    "\n",
    "# Make predictions\n",
    "y_pred = clf.predict(X_test)\n",
    "\n",
    "# Evaluate\n",
    "print(\"Classification Report:\\n\", classification_report(y_test, y_pred))\n",
    "print(\"Accuracy:\", accuracy_score(y_test, y_pred))\n"
   ]
  },
  {
   "cell_type": "code",
   "execution_count": 15,
   "id": "ff2f7b66",
   "metadata": {},
   "outputs": [
    {
     "data": {
      "image/png": "[encoded data removed]",
      "text/plain": [
       "<Figure size 640x480 with 1 Axes>"
      ]
     },
     "metadata": {},
     "output_type": "display_data"
    },
    {
     "name": "stdout",
     "output_type": "stream",
     "text": [
      "                               SARIMAX Results                                \n",
      "==============================================================================\n",
      "Dep. Variable:                      y   No. Observations:                  210\n",
      "Model:                 ARIMA(1, 1, 1)   Log Likelihood               -1110.231\n",
      "Date:                Fri, 15 Nov 2024   AIC                           2226.462\n",
      "Time:                        20:18:08   BIC                           2236.489\n",
      "Sample:                    11-30-2001   HQIC                          2230.516\n",
      "                         - 04-30-2019                                         \n",
      "Covariance Type:                  opg                                         \n",
      "==============================================================================\n",
      "                 coef    std err          z      P>|z|      [0.025      0.975]\n",
      "------------------------------------------------------------------------------\n",
      "ar.L1          0.5258      0.092      5.730      0.000       0.346       0.706\n",
      "ma.L1         -0.2748      0.098     -2.792      0.005      -0.468      -0.082\n",
      "sigma2      2406.4694     45.499     52.890      0.000    2317.292    2495.646\n",
      "===================================================================================\n",
      "Ljung-Box (L1) (Q):                   0.99   Jarque-Bera (JB):             25286.33\n",
      "Prob(Q):                              0.32   Prob(JB):                         0.00\n",
      "Heteroskedasticity (H):           12264.87   Skew:                            -3.19\n",
      "Prob(H) (two-sided):                  0.00   Kurtosis:                        56.51\n",
      "===================================================================================\n",
      "\n",
      "Warnings:\n",
      "[1] Covariance matrix calculated using the outer product of gradients (complex-step).\n"
     ]
    },
    {
     "data": {
      "image/png": "[encoded data removed]",
      "text/plain": [
       "<Figure size 1000x500 with 1 Axes>"
      ]
     },
     "metadata": {},
     "output_type": "display_data"
    }
   ],
   "source": [
    "import pandas as pd\n",
    "from statsmodels.tsa.arima.model import ARIMA\n",
    "import matplotlib.pyplot as plt\n",
    "import warnings\n",
    "\n",
    "# Suppress warnings for cleaner output\n",
    "warnings.filterwarnings(\"ignore\")\n",
    "\n",
    "# Load the dataset\n",
    "data = pd.read_csv(r\"C:\\Users\\raksh\\OneDrive\\Desktop\\Rakshita Sataraddi\\adverk\\adverse_events.csv\")  # Update with the correct file path if needed\n",
    "\n",
    "# Convert 'Date of Event' column to datetime format\n",
    "data['Date of Event'] = pd.to_datetime(data['Date of Event'], errors='coerce')  # Handle invalid dates with 'coerce'\n",
    "\n",
    "# Drop rows with NaN values in 'Date of Event'\n",
    "data = data.dropna(subset=['Date of Event'])\n",
    "\n",
    "# Aggregate data by month to get event count per month\n",
    "time_series_data = data.set_index('Date of Event').resample('M').size()  # Monthly frequency\n",
    "\n",
    "# Plot the time series data\n",
    "time_series_data.plot(title='Yearly Adverse Event Count')\n",
    "plt.xlabel('Date')\n",
    "plt.ylabel('Event Count')\n",
    "plt.show()\n",
    "\n",
    "# Define and train the ARIMA model\n",
    "# (p, d, q) values can be adjusted based on tuning or data properties\n",
    "model = ARIMA(time_series_data, order=(1, 1, 1))  # Example starting with ARIMA(1, 1, 1)\n",
    "arima_result = model.fit()\n",
    "\n",
    "# Display model summary\n",
    "print(arima_result.summary())\n",
    "\n",
    "# Forecast the next 12 months\n",
    "forecast_steps = 12  # Number of future periods (months) to forecast\n",
    "forecast = arima_result.get_forecast(steps=forecast_steps)\n",
    "forecast_index = pd.date_range(time_series_data.index[-1] + pd.DateOffset(months=1), periods=forecast_steps, freq='M')\n",
    "forecast_values = forecast.predicted_mean\n",
    "forecast_ci = forecast.conf_int()\n",
    "\n",
    "# Plot historical data and forecast\n",
    "plt.figure(figsize=(10, 5))\n",
    "plt.plot(time_series_data, label='Historical Data')\n",
    "plt.plot(forecast_index, forecast_values, label='Forecast', color='red')\n",
    "plt.fill_between(forecast_index, forecast_ci.iloc[:, 0], forecast_ci.iloc[:, 1], color='pink', alpha=0.3)\n",
    "plt.xlabel('Date')\n",
    "plt.ylabel('Event Count')\n",
    "plt.legend()\n",
    "plt.title('Adverse Event Count Forecast')\n",
    "plt.show()\n"
   ]
  },
  {
   "cell_type": "code",
   "execution_count": 16,
   "id": "fc47d896",
   "metadata": {},
   "outputs": [
    {
     "name": "stdout",
     "output_type": "stream",
     "text": [
      "Accuracy: 0.991283676703645\n",
      "\n",
      "Classification Report:\n",
      "               precision    recall  f1-score   support\n",
      "\n",
      "           2       0.99      0.99      0.99      2108\n",
      "           3       0.99      0.99      0.99      1678\n",
      "\n",
      "    accuracy                           0.99      3786\n",
      "   macro avg       0.99      0.99      0.99      3786\n",
      "weighted avg       0.99      0.99      0.99      3786\n",
      "\n"
     ]
    }
   ],
   "source": [
    "from sklearn.model_selection import train_test_split\n",
    "from sklearn.ensemble import RandomForestClassifier\n",
    "from sklearn.preprocessing import LabelEncoder\n",
    "from sklearn.metrics import classification_report, accuracy_score\n",
    "\n",
    "# Load the dataset (if not already loaded)\n",
    "data = pd.read_csv(r\"C:\\Users\\raksh\\OneDrive\\Desktop\\Rakshita Sataraddi\\adverk\\adverse_events.csv\")  # Ensure the correct path\n",
    "\n",
    "# Select relevant features and target variable\n",
    "# Here we're assuming 'Event Type' as the target and other columns as features\n",
    "features = data[['Manufacturer Name', 'Device Problem Codes', 'Report Year']]  # Select more features as needed\n",
    "target = data['Event Type']\n",
    "\n",
    "# Preprocess categorical variables\n",
    "le = LabelEncoder()\n",
    "features = features.apply(lambda col: le.fit_transform(col.astype(str)), axis=0)  # Encode categorical features\n",
    "target = le.fit_transform(target)  # Encode target variable\n",
    "\n",
    "# Split the data into training and testing sets\n",
    "X_train, X_test, y_train, y_test = train_test_split(features, target, test_size=0.3, random_state=42)\n",
    "\n",
    "# Train a Random Forest Classifier\n",
    "clf = RandomForestClassifier(n_estimators=100, random_state=42)\n",
    "clf.fit(X_train, y_train)\n",
    "\n",
    "# Make predictions on the test set\n",
    "y_pred = clf.predict(X_test)\n",
    "\n",
    "# Evaluate the mode\n",
    "print(\"Accuracy:\", accuracy_score(y_test, y_pred))\n",
    "print(\"\\nClassification Report:\\n\", classification_report(y_test, y_pred))\n"
   ]
  },
  {
   "cell_type": "code",
   "execution_count": 17,
   "id": "f217fd84",
   "metadata": {},
   "outputs": [
    {
     "name": "stdout",
     "output_type": "stream",
     "text": [
      "\n",
      "--- Logistic Regression ---\n",
      "Accuracy: 0.9677760169043845\n",
      "              precision    recall  f1-score   support\n",
      "\n",
      "           2       0.96      0.99      0.97      2108\n",
      "           3       0.98      0.94      0.96      1678\n",
      "\n",
      "    accuracy                           0.97      3786\n",
      "   macro avg       0.97      0.97      0.97      3786\n",
      "weighted avg       0.97      0.97      0.97      3786\n",
      "\n",
      "\n",
      "--- Support Vector Machine ---\n",
      "Accuracy: 0.9725303750660328\n",
      "              precision    recall  f1-score   support\n",
      "\n",
      "           2       0.96      0.99      0.98      2108\n",
      "           3       0.98      0.95      0.97      1678\n",
      "\n",
      "    accuracy                           0.97      3786\n",
      "   macro avg       0.97      0.97      0.97      3786\n",
      "weighted avg       0.97      0.97      0.97      3786\n",
      "\n",
      "\n",
      "--- Random Forest ---\n",
      "Accuracy: 0.991283676703645\n",
      "              precision    recall  f1-score   support\n",
      "\n",
      "           2       0.99      0.99      0.99      2108\n",
      "           3       0.99      0.99      0.99      1678\n",
      "\n",
      "    accuracy                           0.99      3786\n",
      "   macro avg       0.99      0.99      0.99      3786\n",
      "weighted avg       0.99      0.99      0.99      3786\n",
      "\n",
      "\n",
      "--- Gradient Boosting ---\n",
      "Accuracy: 0.9904912836767037\n",
      "              precision    recall  f1-score   support\n",
      "\n",
      "           2       0.99      0.99      0.99      2108\n",
      "           3       0.99      0.99      0.99      1678\n",
      "\n",
      "    accuracy                           0.99      3786\n",
      "   macro avg       0.99      0.99      0.99      3786\n",
      "weighted avg       0.99      0.99      0.99      3786\n",
      "\n",
      "\n",
      "--- K-Nearest Neighbors ---\n",
      "Accuracy: 0.9904912836767037\n",
      "              precision    recall  f1-score   support\n",
      "\n",
      "           2       0.99      0.99      0.99      2108\n",
      "           3       0.99      0.99      0.99      1678\n",
      "\n",
      "    accuracy                           0.99      3786\n",
      "   macro avg       0.99      0.99      0.99      3786\n",
      "weighted avg       0.99      0.99      0.99      3786\n",
      "\n"
     ]
    }
   ],
   "source": [
    "from sklearn.model_selection import train_test_split\n",
    "from sklearn.preprocessing import LabelEncoder\n",
    "from sklearn.metrics import accuracy_score, classification_report\n",
    "from sklearn.linear_model import LogisticRegression\n",
    "from sklearn.svm import SVC\n",
    "from sklearn.ensemble import RandomForestClassifier, GradientBoostingClassifier\n",
    "from sklearn.neighbors import KNeighborsClassifier\n",
    "\n",
    "# Load the dataset\n",
    "data = pd.read_csv(r\"C:\\Users\\raksh\\OneDrive\\Desktop\\Rakshita Sataraddi\\adverk\\adverse_events.csv\")  # Adjust path if needed\n",
    "\n",
    "# Select relevant features and target variable\n",
    "features = data[['Manufacturer Name', 'Device Problem Codes', 'Report Year']]  # Add more features if relevant\n",
    "target = data['Event Type']\n",
    "\n",
    "# Preprocess categorical variables\n",
    "le = LabelEncoder()\n",
    "features = features.apply(lambda col: le.fit_transform(col.astype(str)), axis=0)\n",
    "target = le.fit_transform(target)\n",
    "\n",
    "# Split the data into training and testing sets\n",
    "X_train, X_test, y_train, y_test = train_test_split(features, target, test_size=0.3, random_state=42)\n",
    "\n",
    "# Initialize classifiers\n",
    "models = {\n",
    "    \"Logistic Regression\": LogisticRegression(max_iter=200),\n",
    "    \"Support Vector Machine\": SVC(kernel='linear'),\n",
    "    \"Random Forest\": RandomForestClassifier(n_estimators=100, random_state=42),\n",
    "    \"Gradient Boosting\": GradientBoostingClassifier(n_estimators=100, random_state=42),\n",
    "    \"K-Nearest Neighbors\": KNeighborsClassifier(n_neighbors=5)\n",
    "}\n",
    "\n",
    "# Train and evaluate each model\n",
    "for model_name, model in models.items():\n",
    "    print(f\"\\n--- {model_name} ---\")\n",
    "    model.fit(X_train, y_train)\n",
    "    y_pred = model.predict(X_test)\n",
    "    \n",
    "    # Print performance metrics\n",
    "    print(\"Accuracy:\", accuracy_score(y_test, y_pred))\n",
    "    print(classification_report(y_test, y_pred))\n"
   ]
  },
  {
   "cell_type": "raw",
   "id": "534dd3b0",
   "metadata": {},
   "source": [
    "import pandas as pd\n",
    "from sklearn.ensemble import RandomForestClassifier\n",
    "from sklearn.model_selection import train_test_split, GridSearchCV\n",
    "from sklearn.preprocessing import LabelEncoder\n",
    "\n",
    "# Load the dataset\n",
    "data = pd.read_csv(r\"C:\\Users\\raksh\\OneDrive\\Desktop\\Rakshita Sataraddi\\adverk\\adverse_events.csv\")  # Adjust the path if needed\n",
    "\n",
    "# Select relevant features and target variable\n",
    "features = data[['Manufacturer Name', 'Device Problem Codes', 'Report Year']]  # Add more features if relevant\n",
    "target = data['Event Type']\n",
    "\n",
    "# Preprocess categorical variables\n",
    "le = LabelEncoder()\n",
    "features = features.apply(lambda col: le.fit_transform(col.astype(str)), axis=0)\n",
    "target = le.fit_transform(target)\n",
    "\n",
    "# Split the data into training and testing sets\n",
    "X_train, X_test, y_train, y_test = train_test_split(features, target, test_size=0.3, random_state=42)\n",
    "\n",
    "# Set up the parameter grid for Random Forest\n",
    "param_grid = {\n",
    "    'n_estimators': [50, 100, 200],\n",
    "    'max_depth': [None, 10, 20, 30],\n",
    "    'min_samples_split': [2, 5, 10],\n",
    "    'min_samples_leaf': [1, 2, 4],\n",
    "    'bootstrap': [True, False]\n",
    "}\n",
    "\n",
    "# Initialize the Random Forest classifier\n",
    "rf = RandomForestClassifier(random_state=42)\n",
    "\n",
    "# Perform grid search with cross-validation\n",
    "grid_search = GridSearchCV(estimator=rf, param_grid=param_grid, cv=5, scoring='accuracy', n_jobs=-1, verbose=2)\n",
    "grid_search.fit(X_train, y_train)\n",
    "\n",
    "# Display the best parameters and accuracy score\n",
    "print(\"Best parameters:\", grid_search.best_params_)\n",
    "print(\"Best accuracy:\", grid_search.best_score_)\n"
   ]
  },
  {
   "cell_type": "raw",
   "id": "05d74ef3",
   "metadata": {},
   "source": [
    "from sklearn.metrics import accuracy_score, classification_report, confusion_matrix\n",
    "\n",
    "# Get the best model from grid search\n",
    "best_rf_model = grid_search.best_estimator_\n",
    "\n",
    "# Predict on the test set\n",
    "y_pred = best_rf_model.predict(X_test)\n",
    "\n",
    "# Evaluate performance\n",
    "print(\"Test Accuracy:\", accuracy_score(y_test, y_pred))\n",
    "print(\"\\nClassification Report:\\n\", classification_report(y_test, y_pred))\n",
    "print(\"\\nConfusion Matrix:\\n\", confusion_matrix(y_test, y_pred))\n"
   ]
  },
  {
   "cell_type": "raw",
   "id": "cebf74fc",
   "metadata": {},
   "source": [
    "# import matplotlib.pyplot as plt\n",
    "\n",
    "# List of feature names based on your CSV file\n",
    "feature_names = ['Manufacturer Name', 'Device Problem Codes', 'Report Year']\n",
    "\n",
    "# Get feature importances from the best Random Forest model\n",
    "importances = best_rf_model.feature_importances_\n",
    "\n",
    "# Plot feature importances\n",
    "plt.figure(figsize=(10, 6))\n",
    "plt.barh(feature_names, importances, color='skyblue')\n",
    "plt.xlabel('Feature Importance')\n",
    "plt.title('Feature Importance in Random Forest Model')\n",
    "plt.show()\n"
   ]
  },
  {
   "cell_type": "code",
   "execution_count": 18,
   "id": "62698f0a",
   "metadata": {},
   "outputs": [
    {
     "name": "stdout",
     "output_type": "stream",
     "text": [
      "Accuracy: 0.9892984542211652\n",
      "\n",
      "Classification Report:\n",
      "               precision    recall  f1-score   support\n",
      "\n",
      " Malfunction       0.99      0.99      0.99      1409\n",
      "      Injury       0.99      0.99      0.99      1114\n",
      "\n",
      "    accuracy                           0.99      2523\n",
      "   macro avg       0.99      0.99      0.99      2523\n",
      "weighted avg       0.99      0.99      0.99      2523\n",
      "\n"
     ]
    }
   ],
   "source": [
    "import pandas as pd\n",
    "from sklearn.model_selection import train_test_split\n",
    "from sklearn.ensemble import RandomForestClassifier\n",
    "from sklearn.metrics import accuracy_score, classification_report\n",
    "from sklearn.preprocessing import LabelEncoder\n",
    "\n",
    "# Load your dataset\n",
    "data = pd.read_csv(r\"C:\\Users\\raksh\\OneDrive\\Desktop\\Rakshita Sataraddi\\adverk\\adverse_events.csv\")  # Adjust the path as needed\n",
    "\n",
    "# Filter and prepare data for binary classification\n",
    "data = data[data['Event Type'].isin(['IN', 'M'])]  # Assuming 'IN' = Injury, 'M' = Malfunction\n",
    "\n",
    "# Encode Event Type as 1 for Injury and 0 for Malfunction\n",
    "label_encoder = LabelEncoder()\n",
    "data['Event_Type_Label'] = label_encoder.fit_transform(data['Event Type'])\n",
    "\n",
    "# Select features and target\n",
    "features = data[['Manufacturer Name', 'Device Problem Codes', 'Report Year']]  # Adjust with your feature columns\n",
    "target = data['Event_Type_Label']\n",
    "\n",
    "# One-hot encode categorical variables if necessary (e.g., Manufacturer Name)\n",
    "features = pd.get_dummies(features, drop_first=True)\n",
    "\n",
    "# Split the data into train and test sets\n",
    "X_train, X_test, y_train, y_test = train_test_split(features, target, test_size=0.2, random_state=42)\n",
    "\n",
    "# Train the Random Forest Classifier\n",
    "rf_model = RandomForestClassifier(random_state=42)\n",
    "rf_model.fit(X_train, y_train)\n",
    "\n",
    "# Make predictions and evaluate\n",
    "y_pred = rf_model.predict(X_test)\n",
    "print(\"Accuracy:\", accuracy_score(y_test, y_pred))\n",
    "print(\"\\nClassification Report:\\n\", classification_report(y_test, y_pred, target_names=['Malfunction', 'Injury']))\n"
   ]
  },
  {
   "cell_type": "code",
   "execution_count": 19,
   "id": "b1922140",
   "metadata": {},
   "outputs": [
    {
     "name": "stdout",
     "output_type": "stream",
     "text": [
      "Accuracy: 0.99\n",
      "\n",
      "Classification Report:\n",
      "               precision    recall  f1-score   support\n",
      "\n",
      " Malfunction       0.99      0.99      0.99      1409\n",
      "      Injury       0.99      0.99      0.99      1114\n",
      "\n",
      "    accuracy                           0.99      2523\n",
      "   macro avg       0.99      0.99      0.99      2523\n",
      "weighted avg       0.99      0.99      0.99      2523\n",
      "\n"
     ]
    }
   ],
   "source": [
    "from sklearn.metrics import accuracy_score, classification_report, confusion_matrix\n",
    "import seaborn as sns\n",
    "import matplotlib.pyplot as plt\n",
    "\n",
    "# Make predictions on the test set\n",
    "y_pred = rf_model.predict(X_test)\n",
    "\n",
    "# Overall accuracy\n",
    "accuracy = accuracy_score(y_test, y_pred)\n",
    "print(f\"Accuracy: {accuracy:.2f}\")\n",
    "\n",
    "# Detailed classification report\n",
    "report = classification_report(y_test, y_pred, target_names=['Malfunction', 'Injury'])\n",
    "print(\"\\nClassification Report:\\n\", report)\n"
   ]
  },
  {
   "cell_type": "code",
   "execution_count": 20,
   "id": "0c715f02",
   "metadata": {},
   "outputs": [
    {
     "data": {
      "image/png": "[encoded data removed]",
      "text/plain": [
       "<Figure size 800x600 with 2 Axes>"
      ]
     },
     "metadata": {},
     "output_type": "display_data"
    }
   ],
   "source": [
    "# Confusion matrix\n",
    "conf_matrix = confusion_matrix(y_test, y_pred)\n",
    "\n",
    "plt.figure(figsize=(8, 6))\n",
    "sns.heatmap(conf_matrix, annot=True, fmt='d', cmap='Blues', xticklabels=['Malfunction', 'Injury'], yticklabels=['Malfunction', 'Injury'])\n",
    "plt.xlabel('Predicted')\n",
    "plt.ylabel('Actual')\n",
    "plt.title('Confusion Matrix')\n",
    "plt.show()\n"
   ]
  },
  {
   "cell_type": "markdown",
   "id": "e2a37e21",
   "metadata": {},
   "source": [
    "# Applies the ExponentialSmoothing model to forecast future malfunction events"
   ]
  },
  {
   "cell_type": "code",
   "execution_count": 9,
   "id": "90c42088",
   "metadata": {},
   "outputs": [
    {
     "data": {
      "image/png": "[encoded data removed]",
      "text/plain": [
       "<Figure size 1000x600 with 1 Axes>"
      ]
     },
     "metadata": {},
     "output_type": "display_data"
    },
    {
     "name": "stdout",
     "output_type": "stream",
     "text": [
      "2019-04-30: 11.34% increase compared to historical average\n",
      "2019-05-31: 11.34% increase compared to historical average\n",
      "2019-06-30: 11.34% increase compared to historical average\n",
      "2019-07-31: 11.57% increase compared to historical average\n",
      "2019-08-31: 11.34% increase compared to historical average\n",
      "2019-09-30: 12.51% increase compared to historical average\n",
      "2019-10-31: 11.81% increase compared to historical average\n",
      "2019-11-30: 13.22% increase compared to historical average\n",
      "2019-12-31: 13.69% increase compared to historical average\n",
      "2020-01-31: 15.33% increase compared to historical average\n",
      "2020-02-29: 12.39% increase compared to historical average\n",
      "2020-03-31: 12.18% increase compared to historical average\n",
      "2020-04-30: 12.57% increase compared to historical average\n",
      "2020-05-31: 12.57% increase compared to historical average\n",
      "2020-06-30: 12.57% increase compared to historical average\n",
      "2020-07-31: 12.80% increase compared to historical average\n",
      "2020-08-31: 12.57% increase compared to historical average\n",
      "2020-09-30: 13.74% increase compared to historical average\n",
      "2020-10-31: 13.04% increase compared to historical average\n",
      "2020-11-30: 14.45% increase compared to historical average\n",
      "2020-12-31: 14.92% increase compared to historical average\n",
      "2021-01-31: 16.56% increase compared to historical average\n",
      "2021-02-28: 13.62% increase compared to historical average\n",
      "2021-03-31: 13.41% increase compared to historical average\n",
      "2021-04-30: 13.80% increase compared to historical average\n",
      "2021-05-31: 13.80% increase compared to historical average\n",
      "2021-06-30: 13.80% increase compared to historical average\n",
      "2021-07-31: 14.03% increase compared to historical average\n",
      "2021-08-31: 13.80% increase compared to historical average\n",
      "2021-09-30: 14.97% increase compared to historical average\n",
      "2021-10-31: 14.27% increase compared to historical average\n",
      "2021-11-30: 15.68% increase compared to historical average\n",
      "2021-12-31: 16.15% increase compared to historical average\n",
      "2022-01-31: 17.79% increase compared to historical average\n",
      "2022-02-28: 14.85% increase compared to historical average\n",
      "2022-03-31: 14.64% increase compared to historical average\n",
      "2022-04-30: 15.02% increase compared to historical average\n",
      "2022-05-31: 15.02% increase compared to historical average\n",
      "2022-06-30: 15.02% increase compared to historical average\n",
      "2022-07-31: 15.26% increase compared to historical average\n",
      "2022-08-31: 15.02% increase compared to historical average\n",
      "2022-09-30: 16.20% increase compared to historical average\n",
      "2022-10-31: 15.49% increase compared to historical average\n",
      "2022-11-30: 16.90% increase compared to historical average\n",
      "2022-12-31: 17.37% increase compared to historical average\n",
      "2023-01-31: 19.02% increase compared to historical average\n",
      "2023-02-28: 16.08% increase compared to historical average\n",
      "2023-03-31: 15.87% increase compared to historical average\n",
      "2023-04-30: 16.25% increase compared to historical average\n",
      "2023-05-31: 16.25% increase compared to historical average\n",
      "2023-06-30: 16.25% increase compared to historical average\n",
      "2023-07-31: 16.49% increase compared to historical average\n",
      "2023-08-31: 16.25% increase compared to historical average\n",
      "2023-09-30: 17.43% increase compared to historical average\n",
      "2023-10-31: 16.72% increase compared to historical average\n",
      "2023-11-30: 18.13% increase compared to historical average\n",
      "2023-12-31: 18.60% increase compared to historical average\n",
      "2024-01-31: 20.25% increase compared to historical average\n",
      "2024-02-29: 17.31% increase compared to historical average\n",
      "2024-03-31: 17.09% increase compared to historical average\n"
     ]
    }
   ],
   "source": [
    "import pandas as pd\n",
    "from statsmodels.tsa.holtwinters import ExponentialSmoothing\n",
    "import matplotlib.pyplot as plt\n",
    "\n",
    "# Load your data\n",
    "data = pd.read_csv(r\"C:\\Users\\raksh\\OneDrive\\Desktop\\Rakshita Sataraddi\\adverk\\adverse_events.csv\")\n",
    "\n",
    "# Convert 'Date of Event' to datetime, with errors='coerce' to handle non-date entries\n",
    "data['Date of Event'] = pd.to_datetime(data['Date of Event'], errors='coerce')\n",
    "\n",
    "# Drop rows where 'Date of Event' is NaT (invalid dates)\n",
    "data = data.dropna(subset=['Date of Event'])\n",
    "\n",
    "# Filter data for 'Malfunction' event type (or use your specific device type column if available)\n",
    "malfunction_data = data[data['Event Type'] == 'M']  # Adjust if necessary based on your CSV\n",
    "\n",
    "# Group by month and count events for time series\n",
    "time_series_data = malfunction_data.set_index('Date of Event').resample('M').size()\n",
    "\n",
    "# Forecast future events using Exponential Smoothing\n",
    "model = ExponentialSmoothing(time_series_data, trend='add', seasonal='add', seasonal_periods=12)\n",
    "fit_model = model.fit()\n",
    "\n",
    "# Forecast the next 12 months\n",
    "forecast = fit_model.forecast(steps=60)\n",
    "\n",
    "# Calculate the historical average\n",
    "historical_average = time_series_data.mean()\n",
    "\n",
    "# Calculate the percentage increase in the forecast compared to the historical average\n",
    "percentage_increase = ((forecast - historical_average) / historical_average) * 1\n",
    "\n",
    "# Plotting the forecast\n",
    "plt.figure(figsize=(10, 6))\n",
    "plt.plot(time_series_data, label='Historical Data')\n",
    "plt.plot(forecast, label='Forecast', linestyle='--')\n",
    "plt.axhline(y=historical_average, color='r', linestyle=':', label='Historical Average')\n",
    "plt.xlabel('Date')\n",
    "plt.ylabel('Event Count')\n",
    "plt.title('Event Frequency Forecast for Malfunction (with % Increase)')\n",
    "plt.legend()\n",
    "plt.show()\n",
    "\n",
    "# Print the percentage increase for each forecasted month\n",
    "for date, pct_inc in percentage_increase.items():\n",
    "    print(f\"{date.date()}: {pct_inc:.2f}% increase compared to historical average\")\n"
   ]
  },
  {
   "cell_type": "code",
   "execution_count": 22,
   "id": "96ad097f",
   "metadata": {},
   "outputs": [
    {
     "name": "stdout",
     "output_type": "stream",
     "text": [
      "Recommended actions for Event Type 'M':\n",
      " ['1001' '1001' '1001']\n"
     ]
    }
   ],
   "source": [
    "from sklearn.neighbors import NearestNeighbors\n",
    "import pandas as pd\n",
    "\n",
    "# Load data (ensure the path is correct)\n",
    "data = pd.read_csv(r\"C:\\Users\\raksh\\OneDrive\\Desktop\\Rakshita Sataraddi\\adverk\\adverse_events.csv\")\n",
    "\n",
    "# Ensure 'Event Type' and 'Device Problem Codes' are available\n",
    "if 'Event Type' in data.columns and 'Device Problem Codes' in data.columns:\n",
    "    # Drop rows with missing values in 'Event Type' or 'Device Problem Codes'\n",
    "    resolution_data = data[['Event Type', 'Device Problem Codes']].dropna()\n",
    "    \n",
    "    # Encode 'Event Type' and 'Device Problem Codes'\n",
    "    resolution_data['Event Type Encoded'] = resolution_data['Event Type'].astype('category').cat.codes\n",
    "    resolution_data['Device Problem Encoded'] = resolution_data['Device Problem Codes'].astype('category').cat.codes\n",
    "    \n",
    "    # Prepare features for Nearest Neighbors\n",
    "    X = resolution_data[['Event Type Encoded', 'Device Problem Encoded']]\n",
    "    \n",
    "    # Fit the Nearest Neighbors model\n",
    "    nbrs = NearestNeighbors(n_neighbors=3, algorithm='auto').fit(X)\n",
    "    \n",
    "    # Define a function to get recommendations based on event type\n",
    "    def recommend_resolution(event_type):\n",
    "        if event_type not in resolution_data['Event Type'].unique():\n",
    "            print(f\"Event Type '{event_type}' not found in dataset.\")\n",
    "            return []\n",
    "        \n",
    "        event_type_encoded = resolution_data[resolution_data['Event Type'] == event_type]['Event Type Encoded'].iloc[0]\n",
    "        distances, indices = nbrs.kneighbors([[event_type_encoded, 0]])\n",
    "        recommendations = resolution_data.iloc[indices[0]]['Device Problem Codes']\n",
    "        return recommendations.values\n",
    "\n",
    "    # Example usage\n",
    "    event_type = 'M'  # Replace with actual event type value from your data\n",
    "    recommended_actions = recommend_resolution(event_type)\n",
    "    print(f\"Recommended actions for Event Type '{event_type}':\\n\", recommended_actions)\n",
    "else:\n",
    "    print(\"Error: 'Event Type' or 'Device Problem Codes' column not found in the dataset.\")\n"
   ]
  },
  {
   "cell_type": "code",
   "execution_count": 4,
   "id": "d228cf94",
   "metadata": {},
   "outputs": [
    {
     "name": "stdout",
     "output_type": "stream",
     "text": [
      "Model saved successfully!\n"
     ]
    }
   ],
   "source": [
    "import pandas as pd\n",
    "from sklearn.ensemble import RandomForestClassifier\n",
    "from sklearn.model_selection import train_test_split\n",
    "from sklearn.preprocessing import LabelEncoder, MultiLabelBinarizer\n",
    "import joblib\n",
    "\n",
    "# Load your data (replace with your actual CSV file path)\n",
    "data = pd.read_csv(r\"C:\\Users\\raksh\\OneDrive\\Desktop\\Rakshita Sataraddi\\adverk\\adverse_events.csv\")\n",
    "\n",
    "# Encoding 'Event Type'\n",
    "label_encoder = LabelEncoder()\n",
    "data['Event Type Encoded'] = label_encoder.fit_transform(data['Event Type'])\n",
    "\n",
    "# Preprocess 'Device Problem Codes' by splitting and encoding\n",
    "data['Device Problem Codes'] = data['Device Problem Codes'].fillna('').apply(lambda x: x.split(';'))\n",
    "mlb = MultiLabelBinarizer()\n",
    "device_problem_codes_encoded = mlb.fit_transform(data['Device Problem Codes'])\n",
    "device_problem_codes_df = pd.DataFrame(device_problem_codes_encoded, columns=mlb.classes_)\n",
    "data = pd.concat([data, device_problem_codes_df], axis=1)\n",
    "\n",
    "# Select features and target\n",
    "X = data[['Report Year', 'Report Quarter'] + list(mlb.classes_)]  # Use relevant columns\n",
    "y = data['Event Type Encoded']\n",
    "\n",
    "# Split the data into training and testing sets\n",
    "X_train, X_test, y_train, y_test = train_test_split(X, y, test_size=0.2, random_state=42)\n",
    "\n",
    "# Train the model\n",
    "model = RandomForestClassifier()\n",
    "model.fit(X_train, y_train)\n",
    "\n",
    "# Save the trained model with joblib\n",
    "joblib.dump(model, \"model.joblib\")\n",
    "\n",
    "print(\"Model saved successfully!\")\n"
   ]
  },
  {
   "cell_type": "code",
   "execution_count": 5,
   "id": "41fcf207",
   "metadata": {},
   "outputs": [
    {
     "name": "stdout",
     "output_type": "stream",
     "text": [
      "Model loaded successfully!\n"
     ]
    }
   ],
   "source": [
    "from joblib import load\n",
    "\n",
    "model = load(\"model.joblib\")\n",
    "print(\"Model loaded successfully!\")\n"
   ]
  },
  {
   "cell_type": "code",
   "execution_count": 3,
   "id": "022a7c77",
   "metadata": {},
   "outputs": [
    {
     "name": "stdout",
     "output_type": "stream",
     "text": [
      "Average Turnaround Time: 276.16 days\n"
     ]
    }
   ],
   "source": [
    "import pandas as pd\n",
    "\n",
    "# Load your dataset\n",
    "data = pd.read_csv(r\"C:\\Users\\raksh\\OneDrive\\Desktop\\Rakshita Sataraddi\\adverk\\adverse_events.csv\")\n",
    "\n",
    "# Ensure the date columns are in datetime format, handling invalid entries\n",
    "data['Date of Event'] = pd.to_datetime(data['Date of Event'], errors='coerce')\n",
    "data['Manufacturer Aware Date'] = pd.to_datetime(data['Manufacturer Aware Date'], errors='coerce')\n",
    "\n",
    "# Drop rows with invalid dates if needed\n",
    "data = data.dropna(subset=['Date of Event', 'Manufacturer Aware Date'])\n",
    "\n",
    "# Calculate the turnaround time in days\n",
    "data['Turnaround Time (days)'] = (data['Manufacturer Aware Date'] - data['Date of Event']).dt.days\n",
    "\n",
    "# Calculate the average turnaround time\n",
    "average_turnaround_time = data['Turnaround Time (days)'].mean()\n",
    "\n",
    "print(f\"Average Turnaround Time: {average_turnaround_time:.2f} days\")\n"
   ]
  },
  {
   "cell_type": "code",
   "execution_count": 1,
   "id": "6ba09432",
   "metadata": {},
   "outputs": [
    {
     "data": {
      "image/png": "[encoded data removed]",
      "text/plain": [
       "<Figure size 1200x600 with 1 Axes>"
      ]
     },
     "metadata": {},
     "output_type": "display_data"
    }
   ],
   "source": [
    "import pandas as pd\n",
    "import matplotlib.pyplot as plt\n",
    "\n",
    "# Load the data\n",
    "data = pd.read_csv(r\"C:\\Users\\raksh\\OneDrive\\Desktop\\Rakshita Sataraddi\\adverk\\adverse_events.csv\")\n",
    "\n",
    "# Group by 'Manufacturer Name' and count complaints\n",
    "manufacturer_complaints = data.groupby('Manufacturer Name').size().sort_values(ascending=False)\n",
    "\n",
    "# Create a list of symbols for manufacturers\n",
    "symbols = ['o', 's', 'D', '^', 'P', '*', 'X', 'v', '<', '>']\n",
    "manufacturers = manufacturer_complaints.index.tolist()\n",
    "\n",
    "# Plot the graph\n",
    "plt.figure(figsize=(12, 6))\n",
    "for i, manufacturer in enumerate(manufacturers):\n",
    "    plt.scatter(\n",
    "        [manufacturer], [manufacturer_complaints[manufacturer]],\n",
    "        label=manufacturer, s=100, marker=symbols[i % len(symbols)]\n",
    "    )\n",
    "\n",
    "# Add labels and title\n",
    "plt.title('Complaints Received from Each Manufacturer')\n",
    "plt.xlabel('Manufacturer')\n",
    "plt.ylabel('Number of Complaints')\n",
    "plt.xticks(rotation=45, ha='right')\n",
    "plt.legend(title='Manufacturers', bbox_to_anchor=(1.05, 1), loc='upper left')\n",
    "plt.tight_layout()\n",
    "\n",
    "# Show the graph\n",
    "plt.show()\n"
   ]
  },
  {
   "cell_type": "code",
   "execution_count": 3,
   "id": "d04784a1",
   "metadata": {},
   "outputs": [
    {
     "data": {
      "image/png": "[encoded data removed]",
      "text/plain": [
       "<Figure size 1000x600 with 1 Axes>"
      ]
     },
     "metadata": {},
     "output_type": "display_data"
    }
   ],
   "source": [
    "import pandas as pd\n",
    "import matplotlib.pyplot as plt\n",
    "import numpy as np\n",
    "\n",
    "# Example Data: Replace with your dataset\n",
    "data = {\n",
    "    'Month': ['Jan', 'Feb', 'Mar', 'Apr', 'May', 'Jun'],\n",
    "    'Submitted': [20, 25, 30, 35, 40, 45],\n",
    "    'Resolved': [15, 20, 25, 35, 38, 42],\n",
    "}\n",
    "\n",
    "# Create a DataFrame\n",
    "df = pd.DataFrame(data)\n",
    "\n",
    "# Create the wave graph\n",
    "plt.figure(figsize=(10, 6))\n",
    "\n",
    "# Define x-axis positions\n",
    "x = np.arange(len(df['Month']))\n",
    "\n",
    "# Plot the Submitted and Resolved lines\n",
    "plt.plot(x, df['Submitted'], label='Submitted', color='blue', linestyle='-', linewidth=2, alpha=0.8)\n",
    "plt.plot(x, df['Resolved'], label='Resolved', color='green', linestyle='-', linewidth=2, alpha=0.8)\n",
    "\n",
    "# Fill the area under the curves for a wave-like appearance\n",
    "plt.fill_between(x, df['Submitted'], alpha=0.2, color='blue')\n",
    "plt.fill_between(x, df['Resolved'], alpha=0.2, color='green')\n",
    "\n",
    "# Customize graph appearance\n",
    "plt.xticks(x, df['Month'], fontsize=10)\n",
    "plt.yticks(fontsize=10)\n",
    "plt.title('Events Over the Month', fontsize=14)\n",
    "plt.xlabel('Month', fontsize=12)\n",
    "plt.ylabel('Event Count', fontsize=12)\n",
    "plt.legend(fontsize=12)\n",
    "\n",
    "# Add grid for better visualization\n",
    "plt.grid(visible=True, linestyle='--', alpha=0.5)\n",
    "\n",
    "# Display the graph\n",
    "plt.tight_layout()\n",
    "plt.show()\n"
   ]
  },
  {
   "cell_type": "code",
   "execution_count": 11,
   "id": "2dd9274b",
   "metadata": {},
   "outputs": [
    {
     "data": {
      "application/vnd.plotly.v1+json": {
       "config": {
        "plotlyServerURL": "https://plot.ly"
       },
       "data": [
        {
         "hovertemplate": "<b>MENTOR</b><br>Month: %{x}<br>Event Count: %{y}<extra></extra>",
         "line": {
          "shape": "spline"
         },
         "marker": {
          "size": 10,
          "symbol": "circle"
         },
         "mode": "lines+markers",
         "name": "MENTOR",
         "type": "scatter",
         "x": [
          "2001-11",
          "2006-06",
          "2007-01",
          "2007-02",
          "2007-08",
          "2007-12",
          "2008-08",
          "2008-09",
          "2008-10",
          "2009-01",
          "2009-04",
          "2009-08",
          "2009-12",
          "2010-01",
          "2010-02",
          "2010-03",
          "2010-06",
          "2010-07",
          "2010-10",
          "2010-12",
          "2011-01",
          "2011-02",
          "2011-03",
          "2011-05",
          "2011-06",
          "2011-07",
          "2011-08",
          "2011-10",
          "2011-12",
          "2012-01",
          "2012-02",
          "2012-03",
          "2012-04",
          "2012-06",
          "2012-08",
          "2012-09",
          "2012-10",
          "2012-12",
          "2013-01",
          "2013-02",
          "2013-04",
          "2013-05",
          "2013-06",
          "2013-07",
          "2013-08",
          "2013-09",
          "2013-12",
          "2014-01",
          "2014-02",
          "2014-03",
          "2014-05",
          "2014-08",
          "2014-09",
          "2014-10",
          "2014-11",
          "2014-12",
          "2015-01",
          "2015-03",
          "2015-04",
          "2015-05",
          "2015-06",
          "2015-07",
          "2015-08",
          "2015-09",
          "2015-11",
          "2015-12",
          "2016-01",
          "2016-02",
          "2016-03",
          "2016-04",
          "2016-05",
          "2016-06",
          "2016-08",
          "2016-10",
          "2016-11",
          "2016-12",
          "2017-01",
          "2017-02",
          "2017-03",
          "2017-04",
          "2017-05",
          "2017-06",
          "2017-07",
          "2017-08",
          "2017-09",
          "2017-10",
          "2017-11",
          "2017-12",
          "2018-01",
          "2018-02",
          "2018-03",
          "2018-04",
          "2018-05",
          "2018-06",
          "2018-07",
          "2018-08",
          "2018-09",
          "2018-10",
          "2018-11",
          "2018-12",
          "2019-01",
          "2019-02",
          "2019-03"
         ],
         "y": [
          2,
          2,
          2,
          2,
          2,
          2,
          2,
          2,
          2,
          5,
          2,
          2,
          2,
          2,
          1,
          2,
          2,
          2,
          5,
          4,
          5,
          4,
          2,
          1,
          3,
          2,
          1,
          1,
          2,
          6,
          2,
          5,
          2,
          2,
          2,
          2,
          2,
          2,
          11,
          3,
          2,
          2,
          2,
          2,
          2,
          4,
          11,
          15,
          3,
          5,
          4,
          4,
          2,
          4,
          6,
          5,
          12,
          1,
          6,
          1,
          2,
          4,
          3,
          5,
          7,
          4,
          15,
          10,
          11,
          2,
          3,
          8,
          8,
          3,
          6,
          33,
          39,
          6,
          9,
          5,
          11,
          10,
          6,
          13,
          12,
          14,
          14,
          40,
          63,
          43,
          52,
          53,
          33,
          57,
          56,
          60,
          90,
          125,
          208,
          223,
          362,
          254,
          185
         ]
        },
        {
         "hovertemplate": "<b>ALLERGAN</b><br>Month: %{x}<br>Event Count: %{y}<extra></extra>",
         "line": {
          "shape": "spline"
         },
         "marker": {
          "size": 10,
          "symbol": "square"
         },
         "mode": "lines+markers",
         "name": "ALLERGAN",
         "type": "scatter",
         "x": [
          "2007-02",
          "2008-02",
          "2008-09",
          "2008-10",
          "2008-12",
          "2009-01",
          "2009-05",
          "2009-06",
          "2009-09",
          "2009-10",
          "2009-12",
          "2010-01",
          "2010-02",
          "2010-03",
          "2010-04",
          "2010-05",
          "2010-06",
          "2010-07",
          "2010-08",
          "2010-09",
          "2010-10",
          "2010-11",
          "2011-01",
          "2011-02",
          "2011-03",
          "2011-04",
          "2011-05",
          "2011-06",
          "2011-07",
          "2011-08",
          "2011-09",
          "2011-10",
          "2011-11",
          "2011-12",
          "2012-01",
          "2012-02",
          "2012-04",
          "2012-06",
          "2012-10",
          "2012-11",
          "2013-01",
          "2013-02",
          "2013-03",
          "2013-04",
          "2013-06",
          "2013-07",
          "2013-08",
          "2013-09",
          "2013-10",
          "2013-11",
          "2014-01",
          "2014-02",
          "2014-03",
          "2014-04",
          "2014-05",
          "2014-06",
          "2014-09",
          "2014-10",
          "2014-11",
          "2015-01",
          "2015-02",
          "2015-04",
          "2015-05",
          "2015-06",
          "2015-07",
          "2015-08",
          "2015-09",
          "2015-10",
          "2015-12",
          "2016-01",
          "2016-02",
          "2016-03",
          "2016-04",
          "2016-05",
          "2016-06",
          "2016-07",
          "2016-08",
          "2016-09",
          "2016-10",
          "2016-12",
          "2017-01",
          "2017-02",
          "2017-03",
          "2017-04",
          "2017-05",
          "2017-06",
          "2017-07",
          "2017-08",
          "2017-09",
          "2017-10",
          "2017-11",
          "2017-12",
          "2018-01",
          "2018-02",
          "2018-03",
          "2018-04",
          "2018-05",
          "2018-06",
          "2018-07",
          "2018-08",
          "2018-09",
          "2018-10",
          "2018-11",
          "2018-12",
          "2019-01",
          "2019-02",
          "2019-03"
         ],
         "y": [
          1,
          1,
          1,
          1,
          2,
          3,
          3,
          1,
          3,
          3,
          2,
          7,
          4,
          1,
          1,
          3,
          4,
          7,
          2,
          1,
          4,
          1,
          4,
          3,
          4,
          1,
          1,
          2,
          7,
          3,
          1,
          2,
          7,
          1,
          10,
          3,
          3,
          2,
          1,
          3,
          6,
          1,
          1,
          1,
          2,
          3,
          1,
          4,
          1,
          1,
          9,
          1,
          1,
          1,
          1,
          1,
          2,
          4,
          1,
          6,
          2,
          1,
          3,
          5,
          4,
          2,
          3,
          1,
          6,
          16,
          4,
          4,
          8,
          2,
          5,
          6,
          3,
          6,
          5,
          2,
          31,
          3,
          4,
          6,
          7,
          11,
          8,
          15,
          10,
          14,
          12,
          15,
          55,
          37,
          41,
          47,
          68,
          61,
          72,
          104,
          138,
          174,
          270,
          273,
          469,
          360,
          282
         ]
        },
        {
         "hovertemplate": "<b>SIENTRA</b><br>Month: %{x}<br>Event Count: %{y}<extra></extra>",
         "line": {
          "shape": "spline"
         },
         "marker": {
          "size": 10,
          "symbol": "diamond"
         },
         "mode": "lines+markers",
         "name": "SIENTRA",
         "type": "scatter",
         "x": [
          "2015-04",
          "2015-05",
          "2016-08",
          "2018-01",
          "2018-02",
          "2018-05",
          "2018-08",
          "2018-11",
          "2018-12",
          "2019-01",
          "2019-02",
          "2019-03",
          "2019-04"
         ],
         "y": [
          2,
          2,
          2,
          4,
          4,
          1,
          3,
          6,
          10,
          47,
          31,
          28,
          1
         ]
        }
       ],
       "layout": {
        "font": {
         "size": 12
        },
        "hovermode": "x unified",
        "legend": {
         "title": {
          "text": "Manufacturers"
         }
        },
        "template": {
         "data": {
          "bar": [
           {
            "error_x": {
             "color": "#2a3f5f"
            },
            "error_y": {
             "color": "#2a3f5f"
            },
            "marker": {
             "line": {
              "color": "white",
              "width": 0.5
             },
             "pattern": {
              "fillmode": "overlay",
              "size": 10,
              "solidity": 0.2
             }
            },
            "type": "bar"
           }
          ],
          "barpolar": [
           {
            "marker": {
             "line": {
              "color": "white",
              "width": 0.5
             },
             "pattern": {
              "fillmode": "overlay",
              "size": 10,
              "solidity": 0.2
             }
            },
            "type": "barpolar"
           }
          ],
          "carpet": [
           {
            "aaxis": {
             "endlinecolor": "#2a3f5f",
             "gridcolor": "#C8D4E3",
             "linecolor": "#C8D4E3",
             "minorgridcolor": "#C8D4E3",
             "startlinecolor": "#2a3f5f"
            },
            "baxis": {
             "endlinecolor": "#2a3f5f",
             "gridcolor": "#C8D4E3",
             "linecolor": "#C8D4E3",
             "minorgridcolor": "#C8D4E3",
             "startlinecolor": "#2a3f5f"
            },
            "type": "carpet"
           }
          ],
          "choropleth": [
           {
            "colorbar": {
             "outlinewidth": 0,
             "ticks": ""
            },
            "type": "choropleth"
           }
          ],
          "contour": [
           {
            "colorbar": {
             "outlinewidth": 0,
             "ticks": ""
            },
            "colorscale": [
             [
              0,
              "#0d0887"
             ],
             [
              0.1111111111111111,
              "#46039f"
             ],
             [
              0.2222222222222222,
              "#7201a8"
             ],
             [
              0.3333333333333333,
              "#9c179e"
             ],
             [
              0.4444444444444444,
              "#bd3786"
             ],
             [
              0.5555555555555556,
              "#d8576b"
             ],
             [
              0.6666666666666666,
              "#ed7953"
             ],
             [
              0.7777777777777778,
              "#fb9f3a"
             ],
             [
              0.8888888888888888,
              "#fdca26"
             ],
             [
              1,
              "#f0f921"
             ]
            ],
            "type": "contour"
           }
          ],
          "contourcarpet": [
           {
            "colorbar": {
             "outlinewidth": 0,
             "ticks": ""
            },
            "type": "contourcarpet"
           }
          ],
          "heatmap": [
           {
            "colorbar": {
             "outlinewidth": 0,
             "ticks": ""
            },
            "colorscale": [
             [
              0,
              "#0d0887"
             ],
             [
              0.1111111111111111,
              "#46039f"
             ],
             [
              0.2222222222222222,
              "#7201a8"
             ],
             [
              0.3333333333333333,
              "#9c179e"
             ],
             [
              0.4444444444444444,
              "#bd3786"
             ],
             [
              0.5555555555555556,
              "#d8576b"
             ],
             [
              0.6666666666666666,
              "#ed7953"
             ],
             [
              0.7777777777777778,
              "#fb9f3a"
             ],
             [
              0.8888888888888888,
              "#fdca26"
             ],
             [
              1,
              "#f0f921"
             ]
            ],
            "type": "heatmap"
           }
          ],
          "heatmapgl": [
           {
            "colorbar": {
             "outlinewidth": 0,
             "ticks": ""
            },
            "colorscale": [
             [
              0,
              "#0d0887"
             ],
             [
              0.1111111111111111,
              "#46039f"
             ],
             [
              0.2222222222222222,
              "#7201a8"
             ],
             [
              0.3333333333333333,
              "#9c179e"
             ],
             [
              0.4444444444444444,
              "#bd3786"
             ],
             [
              0.5555555555555556,
              "#d8576b"
             ],
             [
              0.6666666666666666,
              "#ed7953"
             ],
             [
              0.7777777777777778,
              "#fb9f3a"
             ],
             [
              0.8888888888888888,
              "#fdca26"
             ],
             [
              1,
              "#f0f921"
             ]
            ],
            "type": "heatmapgl"
           }
          ],
          "histogram": [
           {
            "marker": {
             "pattern": {
              "fillmode": "overlay",
              "size": 10,
              "solidity": 0.2
             }
            },
            "type": "histogram"
           }
          ],
          "histogram2d": [
           {
            "colorbar": {
             "outlinewidth": 0,
             "ticks": ""
            },
            "colorscale": [
             [
              0,
              "#0d0887"
             ],
             [
              0.1111111111111111,
              "#46039f"
             ],
             [
              0.2222222222222222,
              "#7201a8"
             ],
             [
              0.3333333333333333,
              "#9c179e"
             ],
             [
              0.4444444444444444,
              "#bd3786"
             ],
             [
              0.5555555555555556,
              "#d8576b"
             ],
             [
              0.6666666666666666,
              "#ed7953"
             ],
             [
              0.7777777777777778,
              "#fb9f3a"
             ],
             [
              0.8888888888888888,
              "#fdca26"
             ],
             [
              1,
              "#f0f921"
             ]
            ],
            "type": "histogram2d"
           }
          ],
          "histogram2dcontour": [
           {
            "colorbar": {
             "outlinewidth": 0,
             "ticks": ""
            },
            "colorscale": [
             [
              0,
              "#0d0887"
             ],
             [
              0.1111111111111111,
              "#46039f"
             ],
             [
              0.2222222222222222,
              "#7201a8"
             ],
             [
              0.3333333333333333,
              "#9c179e"
             ],
             [
              0.4444444444444444,
              "#bd3786"
             ],
             [
              0.5555555555555556,
              "#d8576b"
             ],
             [
              0.6666666666666666,
              "#ed7953"
             ],
             [
              0.7777777777777778,
              "#fb9f3a"
             ],
             [
              0.8888888888888888,
              "#fdca26"
             ],
             [
              1,
              "#f0f921"
             ]
            ],
            "type": "histogram2dcontour"
           }
          ],
          "mesh3d": [
           {
            "colorbar": {
             "outlinewidth": 0,
             "ticks": ""
            },
            "type": "mesh3d"
           }
          ],
          "parcoords": [
           {
            "line": {
             "colorbar": {
              "outlinewidth": 0,
              "ticks": ""
             }
            },
            "type": "parcoords"
           }
          ],
          "pie": [
           {
            "automargin": true,
            "type": "pie"
           }
          ],
          "scatter": [
           {
            "fillpattern": {
             "fillmode": "overlay",
             "size": 10,
             "solidity": 0.2
            },
            "type": "scatter"
           }
          ],
          "scatter3d": [
           {
            "line": {
             "colorbar": {
              "outlinewidth": 0,
              "ticks": ""
             }
            },
            "marker": {
             "colorbar": {
              "outlinewidth": 0,
              "ticks": ""
             }
            },
            "type": "scatter3d"
           }
          ],
          "scattercarpet": [
           {
            "marker": {
             "colorbar": {
              "outlinewidth": 0,
              "ticks": ""
             }
            },
            "type": "scattercarpet"
           }
          ],
          "scattergeo": [
           {
            "marker": {
             "colorbar": {
              "outlinewidth": 0,
              "ticks": ""
             }
            },
            "type": "scattergeo"
           }
          ],
          "scattergl": [
           {
            "marker": {
             "colorbar": {
              "outlinewidth": 0,
              "ticks": ""
             }
            },
            "type": "scattergl"
           }
          ],
          "scattermapbox": [
           {
            "marker": {
             "colorbar": {
              "outlinewidth": 0,
              "ticks": ""
             }
            },
            "type": "scattermapbox"
           }
          ],
          "scatterpolar": [
           {
            "marker": {
             "colorbar": {
              "outlinewidth": 0,
              "ticks": ""
             }
            },
            "type": "scatterpolar"
           }
          ],
          "scatterpolargl": [
           {
            "marker": {
             "colorbar": {
              "outlinewidth": 0,
              "ticks": ""
             }
            },
            "type": "scatterpolargl"
           }
          ],
          "scatterternary": [
           {
            "marker": {
             "colorbar": {
              "outlinewidth": 0,
              "ticks": ""
             }
            },
            "type": "scatterternary"
           }
          ],
          "surface": [
           {
            "colorbar": {
             "outlinewidth": 0,
             "ticks": ""
            },
            "colorscale": [
             [
              0,
              "#0d0887"
             ],
             [
              0.1111111111111111,
              "#46039f"
             ],
             [
              0.2222222222222222,
              "#7201a8"
             ],
             [
              0.3333333333333333,
              "#9c179e"
             ],
             [
              0.4444444444444444,
              "#bd3786"
             ],
             [
              0.5555555555555556,
              "#d8576b"
             ],
             [
              0.6666666666666666,
              "#ed7953"
             ],
             [
              0.7777777777777778,
              "#fb9f3a"
             ],
             [
              0.8888888888888888,
              "#fdca26"
             ],
             [
              1,
              "#f0f921"
             ]
            ],
            "type": "surface"
           }
          ],
          "table": [
           {
            "cells": {
             "fill": {
              "color": "#EBF0F8"
             },
             "line": {
              "color": "white"
             }
            },
            "header": {
             "fill": {
              "color": "#C8D4E3"
             },
             "line": {
              "color": "white"
             }
            },
            "type": "table"
           }
          ]
         },
         "layout": {
          "annotationdefaults": {
           "arrowcolor": "#2a3f5f",
           "arrowhead": 0,
           "arrowwidth": 1
          },
          "autotypenumbers": "strict",
          "coloraxis": {
           "colorbar": {
            "outlinewidth": 0,
            "ticks": ""
           }
          },
          "colorscale": {
           "diverging": [
            [
             0,
             "#8e0152"
            ],
            [
             0.1,
             "#c51b7d"
            ],
            [
             0.2,
             "#de77ae"
            ],
            [
             0.3,
             "#f1b6da"
            ],
            [
             0.4,
             "#fde0ef"
            ],
            [
             0.5,
             "#f7f7f7"
            ],
            [
             0.6,
             "#e6f5d0"
            ],
            [
             0.7,
             "#b8e186"
            ],
            [
             0.8,
             "#7fbc41"
            ],
            [
             0.9,
             "#4d9221"
            ],
            [
             1,
             "#276419"
            ]
           ],
           "sequential": [
            [
             0,
             "#0d0887"
            ],
            [
             0.1111111111111111,
             "#46039f"
            ],
            [
             0.2222222222222222,
             "#7201a8"
            ],
            [
             0.3333333333333333,
             "#9c179e"
            ],
            [
             0.4444444444444444,
             "#bd3786"
            ],
            [
             0.5555555555555556,
             "#d8576b"
            ],
            [
             0.6666666666666666,
             "#ed7953"
            ],
            [
             0.7777777777777778,
             "#fb9f3a"
            ],
            [
             0.8888888888888888,
             "#fdca26"
            ],
            [
             1,
             "#f0f921"
            ]
           ],
           "sequentialminus": [
            [
             0,
             "#0d0887"
            ],
            [
             0.1111111111111111,
             "#46039f"
            ],
            [
             0.2222222222222222,
             "#7201a8"
            ],
            [
             0.3333333333333333,
             "#9c179e"
            ],
            [
             0.4444444444444444,
             "#bd3786"
            ],
            [
             0.5555555555555556,
             "#d8576b"
            ],
            [
             0.6666666666666666,
             "#ed7953"
            ],
            [
             0.7777777777777778,
             "#fb9f3a"
            ],
            [
             0.8888888888888888,
             "#fdca26"
            ],
            [
             1,
             "#f0f921"
            ]
           ]
          },
          "colorway": [
           "#636efa",
           "#EF553B",
           "#00cc96",
           "#ab63fa",
           "#FFA15A",
           "#19d3f3",
           "#FF6692",
           "#B6E880",
           "#FF97FF",
           "#FECB52"
          ],
          "font": {
           "color": "#2a3f5f"
          },
          "geo": {
           "bgcolor": "white",
           "lakecolor": "white",
           "landcolor": "white",
           "showlakes": true,
           "showland": true,
           "subunitcolor": "#C8D4E3"
          },
          "hoverlabel": {
           "align": "left"
          },
          "hovermode": "closest",
          "mapbox": {
           "style": "light"
          },
          "paper_bgcolor": "white",
          "plot_bgcolor": "white",
          "polar": {
           "angularaxis": {
            "gridcolor": "#EBF0F8",
            "linecolor": "#EBF0F8",
            "ticks": ""
           },
           "bgcolor": "white",
           "radialaxis": {
            "gridcolor": "#EBF0F8",
            "linecolor": "#EBF0F8",
            "ticks": ""
           }
          },
          "scene": {
           "xaxis": {
            "backgroundcolor": "white",
            "gridcolor": "#DFE8F3",
            "gridwidth": 2,
            "linecolor": "#EBF0F8",
            "showbackground": true,
            "ticks": "",
            "zerolinecolor": "#EBF0F8"
           },
           "yaxis": {
            "backgroundcolor": "white",
            "gridcolor": "#DFE8F3",
            "gridwidth": 2,
            "linecolor": "#EBF0F8",
            "showbackground": true,
            "ticks": "",
            "zerolinecolor": "#EBF0F8"
           },
           "zaxis": {
            "backgroundcolor": "white",
            "gridcolor": "#DFE8F3",
            "gridwidth": 2,
            "linecolor": "#EBF0F8",
            "showbackground": true,
            "ticks": "",
            "zerolinecolor": "#EBF0F8"
           }
          },
          "shapedefaults": {
           "line": {
            "color": "#2a3f5f"
           }
          },
          "ternary": {
           "aaxis": {
            "gridcolor": "#DFE8F3",
            "linecolor": "#A2B1C6",
            "ticks": ""
           },
           "baxis": {
            "gridcolor": "#DFE8F3",
            "linecolor": "#A2B1C6",
            "ticks": ""
           },
           "bgcolor": "white",
           "caxis": {
            "gridcolor": "#DFE8F3",
            "linecolor": "#A2B1C6",
            "ticks": ""
           }
          },
          "title": {
           "x": 0.05
          },
          "xaxis": {
           "automargin": true,
           "gridcolor": "#EBF0F8",
           "linecolor": "#EBF0F8",
           "ticks": "",
           "title": {
            "standoff": 15
           },
           "zerolinecolor": "#EBF0F8",
           "zerolinewidth": 2
          },
          "yaxis": {
           "automargin": true,
           "gridcolor": "#EBF0F8",
           "linecolor": "#EBF0F8",
           "ticks": "",
           "title": {
            "standoff": 15
           },
           "zerolinecolor": "#EBF0F8",
           "zerolinewidth": 2
          }
         }
        },
        "title": {
         "text": "Events Over the Month by Manufacturer"
        },
        "xaxis": {
         "linecolor": "black",
         "linewidth": 1,
         "showgrid": false,
         "showline": true,
         "tickangle": -45,
         "title": {
          "text": "Month"
         }
        },
        "yaxis": {
         "showgrid": true,
         "title": {
          "text": "Event Count"
         },
         "zeroline": false
        }
       }
      },
      "text/html": [
       "<div>                            <div id=\"001a1a98-11c3-4b98-ae30-aaa2ac67b1ef\" class=\"plotly-graph-div\" style=\"height:525px; width:100%;\"></div>            <script type=\"text/javascript\">                require([\"plotly\"], function(Plotly) {                    window.PLOTLYENV=window.PLOTLYENV || {};                                    if (document.getElementById(\"001a1a98-11c3-4b98-ae30-aaa2ac67b1ef\")) {                    Plotly.newPlot(                        \"001a1a98-11c3-4b98-ae30-aaa2ac67b1ef\",                        [{\"hovertemplate\":\"<b>MENTOR</b><br>Month: %{x}<br>Event Count: %{y}<extra></extra>\",\"line\":{\"shape\":\"spline\"},\"marker\":{\"size\":10,\"symbol\":\"circle\"},\"mode\":\"lines+markers\",\"name\":\"MENTOR\",\"x\":[\"2001-11\",\"2006-06\",\"2007-01\",\"2007-02\",\"2007-08\",\"2007-12\",\"2008-08\",\"2008-09\",\"2008-10\",\"2009-01\",\"2009-04\",\"2009-08\",\"2009-12\",\"2010-01\",\"2010-02\",\"2010-03\",\"2010-06\",\"2010-07\",\"2010-10\",\"2010-12\",\"2011-01\",\"2011-02\",\"2011-03\",\"2011-05\",\"2011-06\",\"2011-07\",\"2011-08\",\"2011-10\",\"2011-12\",\"2012-01\",\"2012-02\",\"2012-03\",\"2012-04\",\"2012-06\",\"2012-08\",\"2012-09\",\"2012-10\",\"2012-12\",\"2013-01\",\"2013-02\",\"2013-04\",\"2013-05\",\"2013-06\",\"2013-07\",\"2013-08\",\"2013-09\",\"2013-12\",\"2014-01\",\"2014-02\",\"2014-03\",\"2014-05\",\"2014-08\",\"2014-09\",\"2014-10\",\"2014-11\",\"2014-12\",\"2015-01\",\"2015-03\",\"2015-04\",\"2015-05\",\"2015-06\",\"2015-07\",\"2015-08\",\"2015-09\",\"2015-11\",\"2015-12\",\"2016-01\",\"2016-02\",\"2016-03\",\"2016-04\",\"2016-05\",\"2016-06\",\"2016-08\",\"2016-10\",\"2016-11\",\"2016-12\",\"2017-01\",\"2017-02\",\"2017-03\",\"2017-04\",\"2017-05\",\"2017-06\",\"2017-07\",\"2017-08\",\"2017-09\",\"2017-10\",\"2017-11\",\"2017-12\",\"2018-01\",\"2018-02\",\"2018-03\",\"2018-04\",\"2018-05\",\"2018-06\",\"2018-07\",\"2018-08\",\"2018-09\",\"2018-10\",\"2018-11\",\"2018-12\",\"2019-01\",\"2019-02\",\"2019-03\"],\"y\":[2,2,2,2,2,2,2,2,2,5,2,2,2,2,1,2,2,2,5,4,5,4,2,1,3,2,1,1,2,6,2,5,2,2,2,2,2,2,11,3,2,2,2,2,2,4,11,15,3,5,4,4,2,4,6,5,12,1,6,1,2,4,3,5,7,4,15,10,11,2,3,8,8,3,6,33,39,6,9,5,11,10,6,13,12,14,14,40,63,43,52,53,33,57,56,60,90,125,208,223,362,254,185],\"type\":\"scatter\"},{\"hovertemplate\":\"<b>ALLERGAN</b><br>Month: %{x}<br>Event Count: %{y}<extra></extra>\",\"line\":{\"shape\":\"spline\"},\"marker\":{\"size\":10,\"symbol\":\"square\"},\"mode\":\"lines+markers\",\"name\":\"ALLERGAN\",\"x\":[\"2007-02\",\"2008-02\",\"2008-09\",\"2008-10\",\"2008-12\",\"2009-01\",\"2009-05\",\"2009-06\",\"2009-09\",\"2009-10\",\"2009-12\",\"2010-01\",\"2010-02\",\"2010-03\",\"2010-04\",\"2010-05\",\"2010-06\",\"2010-07\",\"2010-08\",\"2010-09\",\"2010-10\",\"2010-11\",\"2011-01\",\"2011-02\",\"2011-03\",\"2011-04\",\"2011-05\",\"2011-06\",\"2011-07\",\"2011-08\",\"2011-09\",\"2011-10\",\"2011-11\",\"2011-12\",\"2012-01\",\"2012-02\",\"2012-04\",\"2012-06\",\"2012-10\",\"2012-11\",\"2013-01\",\"2013-02\",\"2013-03\",\"2013-04\",\"2013-06\",\"2013-07\",\"2013-08\",\"2013-09\",\"2013-10\",\"2013-11\",\"2014-01\",\"2014-02\",\"2014-03\",\"2014-04\",\"2014-05\",\"2014-06\",\"2014-09\",\"2014-10\",\"2014-11\",\"2015-01\",\"2015-02\",\"2015-04\",\"2015-05\",\"2015-06\",\"2015-07\",\"2015-08\",\"2015-09\",\"2015-10\",\"2015-12\",\"2016-01\",\"2016-02\",\"2016-03\",\"2016-04\",\"2016-05\",\"2016-06\",\"2016-07\",\"2016-08\",\"2016-09\",\"2016-10\",\"2016-12\",\"2017-01\",\"2017-02\",\"2017-03\",\"2017-04\",\"2017-05\",\"2017-06\",\"2017-07\",\"2017-08\",\"2017-09\",\"2017-10\",\"2017-11\",\"2017-12\",\"2018-01\",\"2018-02\",\"2018-03\",\"2018-04\",\"2018-05\",\"2018-06\",\"2018-07\",\"2018-08\",\"2018-09\",\"2018-10\",\"2018-11\",\"2018-12\",\"2019-01\",\"2019-02\",\"2019-03\"],\"y\":[1,1,1,1,2,3,3,1,3,3,2,7,4,1,1,3,4,7,2,1,4,1,4,3,4,1,1,2,7,3,1,2,7,1,10,3,3,2,1,3,6,1,1,1,2,3,1,4,1,1,9,1,1,1,1,1,2,4,1,6,2,1,3,5,4,2,3,1,6,16,4,4,8,2,5,6,3,6,5,2,31,3,4,6,7,11,8,15,10,14,12,15,55,37,41,47,68,61,72,104,138,174,270,273,469,360,282],\"type\":\"scatter\"},{\"hovertemplate\":\"<b>SIENTRA</b><br>Month: %{x}<br>Event Count: %{y}<extra></extra>\",\"line\":{\"shape\":\"spline\"},\"marker\":{\"size\":10,\"symbol\":\"diamond\"},\"mode\":\"lines+markers\",\"name\":\"SIENTRA\",\"x\":[\"2015-04\",\"2015-05\",\"2016-08\",\"2018-01\",\"2018-02\",\"2018-05\",\"2018-08\",\"2018-11\",\"2018-12\",\"2019-01\",\"2019-02\",\"2019-03\",\"2019-04\"],\"y\":[2,2,2,4,4,1,3,6,10,47,31,28,1],\"type\":\"scatter\"}],                        {\"template\":{\"data\":{\"barpolar\":[{\"marker\":{\"line\":{\"color\":\"white\",\"width\":0.5},\"pattern\":{\"fillmode\":\"overlay\",\"size\":10,\"solidity\":0.2}},\"type\":\"barpolar\"}],\"bar\":[{\"error_x\":{\"color\":\"#2a3f5f\"},\"error_y\":{\"color\":\"#2a3f5f\"},\"marker\":{\"line\":{\"color\":\"white\",\"width\":0.5},\"pattern\":{\"fillmode\":\"overlay\",\"size\":10,\"solidity\":0.2}},\"type\":\"bar\"}],\"carpet\":[{\"aaxis\":{\"endlinecolor\":\"#2a3f5f\",\"gridcolor\":\"#C8D4E3\",\"linecolor\":\"#C8D4E3\",\"minorgridcolor\":\"#C8D4E3\",\"startlinecolor\":\"#2a3f5f\"},\"baxis\":{\"endlinecolor\":\"#2a3f5f\",\"gridcolor\":\"#C8D4E3\",\"linecolor\":\"#C8D4E3\",\"minorgridcolor\":\"#C8D4E3\",\"startlinecolor\":\"#2a3f5f\"},\"type\":\"carpet\"}],\"choropleth\":[{\"colorbar\":{\"outlinewidth\":0,\"ticks\":\"\"},\"type\":\"choropleth\"}],\"contourcarpet\":[{\"colorbar\":{\"outlinewidth\":0,\"ticks\":\"\"},\"type\":\"contourcarpet\"}],\"contour\":[{\"colorbar\":{\"outlinewidth\":0,\"ticks\":\"\"},\"colorscale\":[[0.0,\"#0d0887\"],[0.1111111111111111,\"#46039f\"],[0.2222222222222222,\"#7201a8\"],[0.3333333333333333,\"#9c179e\"],[0.4444444444444444,\"#bd3786\"],[0.5555555555555556,\"#d8576b\"],[0.6666666666666666,\"#ed7953\"],[0.7777777777777778,\"#fb9f3a\"],[0.8888888888888888,\"#fdca26\"],[1.0,\"#f0f921\"]],\"type\":\"contour\"}],\"heatmapgl\":[{\"colorbar\":{\"outlinewidth\":0,\"ticks\":\"\"},\"colorscale\":[[0.0,\"#0d0887\"],[0.1111111111111111,\"#46039f\"],[0.2222222222222222,\"#7201a8\"],[0.3333333333333333,\"#9c179e\"],[0.4444444444444444,\"#bd3786\"],[0.5555555555555556,\"#d8576b\"],[0.6666666666666666,\"#ed7953\"],[0.7777777777777778,\"#fb9f3a\"],[0.8888888888888888,\"#fdca26\"],[1.0,\"#f0f921\"]],\"type\":\"heatmapgl\"}],\"heatmap\":[{\"colorbar\":{\"outlinewidth\":0,\"ticks\":\"\"},\"colorscale\":[[0.0,\"#0d0887\"],[0.1111111111111111,\"#46039f\"],[0.2222222222222222,\"#7201a8\"],[0.3333333333333333,\"#9c179e\"],[0.4444444444444444,\"#bd3786\"],[0.5555555555555556,\"#d8576b\"],[0.6666666666666666,\"#ed7953\"],[0.7777777777777778,\"#fb9f3a\"],[0.8888888888888888,\"#fdca26\"],[1.0,\"#f0f921\"]],\"type\":\"heatmap\"}],\"histogram2dcontour\":[{\"colorbar\":{\"outlinewidth\":0,\"ticks\":\"\"},\"colorscale\":[[0.0,\"#0d0887\"],[0.1111111111111111,\"#46039f\"],[0.2222222222222222,\"#7201a8\"],[0.3333333333333333,\"#9c179e\"],[0.4444444444444444,\"#bd3786\"],[0.5555555555555556,\"#d8576b\"],[0.6666666666666666,\"#ed7953\"],[0.7777777777777778,\"#fb9f3a\"],[0.8888888888888888,\"#fdca26\"],[1.0,\"#f0f921\"]],\"type\":\"histogram2dcontour\"}],\"histogram2d\":[{\"colorbar\":{\"outlinewidth\":0,\"ticks\":\"\"},\"colorscale\":[[0.0,\"#0d0887\"],[0.1111111111111111,\"#46039f\"],[0.2222222222222222,\"#7201a8\"],[0.3333333333333333,\"#9c179e\"],[0.4444444444444444,\"#bd3786\"],[0.5555555555555556,\"#d8576b\"],[0.6666666666666666,\"#ed7953\"],[0.7777777777777778,\"#fb9f3a\"],[0.8888888888888888,\"#fdca26\"],[1.0,\"#f0f921\"]],\"type\":\"histogram2d\"}],\"histogram\":[{\"marker\":{\"pattern\":{\"fillmode\":\"overlay\",\"size\":10,\"solidity\":0.2}},\"type\":\"histogram\"}],\"mesh3d\":[{\"colorbar\":{\"outlinewidth\":0,\"ticks\":\"\"},\"type\":\"mesh3d\"}],\"parcoords\":[{\"line\":{\"colorbar\":{\"outlinewidth\":0,\"ticks\":\"\"}},\"type\":\"parcoords\"}],\"pie\":[{\"automargin\":true,\"type\":\"pie\"}],\"scatter3d\":[{\"line\":{\"colorbar\":{\"outlinewidth\":0,\"ticks\":\"\"}},\"marker\":{\"colorbar\":{\"outlinewidth\":0,\"ticks\":\"\"}},\"type\":\"scatter3d\"}],\"scattercarpet\":[{\"marker\":{\"colorbar\":{\"outlinewidth\":0,\"ticks\":\"\"}},\"type\":\"scattercarpet\"}],\"scattergeo\":[{\"marker\":{\"colorbar\":{\"outlinewidth\":0,\"ticks\":\"\"}},\"type\":\"scattergeo\"}],\"scattergl\":[{\"marker\":{\"colorbar\":{\"outlinewidth\":0,\"ticks\":\"\"}},\"type\":\"scattergl\"}],\"scattermapbox\":[{\"marker\":{\"colorbar\":{\"outlinewidth\":0,\"ticks\":\"\"}},\"type\":\"scattermapbox\"}],\"scatterpolargl\":[{\"marker\":{\"colorbar\":{\"outlinewidth\":0,\"ticks\":\"\"}},\"type\":\"scatterpolargl\"}],\"scatterpolar\":[{\"marker\":{\"colorbar\":{\"outlinewidth\":0,\"ticks\":\"\"}},\"type\":\"scatterpolar\"}],\"scatter\":[{\"fillpattern\":{\"fillmode\":\"overlay\",\"size\":10,\"solidity\":0.2},\"type\":\"scatter\"}],\"scatterternary\":[{\"marker\":{\"colorbar\":{\"outlinewidth\":0,\"ticks\":\"\"}},\"type\":\"scatterternary\"}],\"surface\":[{\"colorbar\":{\"outlinewidth\":0,\"ticks\":\"\"},\"colorscale\":[[0.0,\"#0d0887\"],[0.1111111111111111,\"#46039f\"],[0.2222222222222222,\"#7201a8\"],[0.3333333333333333,\"#9c179e\"],[0.4444444444444444,\"#bd3786\"],[0.5555555555555556,\"#d8576b\"],[0.6666666666666666,\"#ed7953\"],[0.7777777777777778,\"#fb9f3a\"],[0.8888888888888888,\"#fdca26\"],[1.0,\"#f0f921\"]],\"type\":\"surface\"}],\"table\":[{\"cells\":{\"fill\":{\"color\":\"#EBF0F8\"},\"line\":{\"color\":\"white\"}},\"header\":{\"fill\":{\"color\":\"#C8D4E3\"},\"line\":{\"color\":\"white\"}},\"type\":\"table\"}]},\"layout\":{\"annotationdefaults\":{\"arrowcolor\":\"#2a3f5f\",\"arrowhead\":0,\"arrowwidth\":1},\"autotypenumbers\":\"strict\",\"coloraxis\":{\"colorbar\":{\"outlinewidth\":0,\"ticks\":\"\"}},\"colorscale\":{\"diverging\":[[0,\"#8e0152\"],[0.1,\"#c51b7d\"],[0.2,\"#de77ae\"],[0.3,\"#f1b6da\"],[0.4,\"#fde0ef\"],[0.5,\"#f7f7f7\"],[0.6,\"#e6f5d0\"],[0.7,\"#b8e186\"],[0.8,\"#7fbc41\"],[0.9,\"#4d9221\"],[1,\"#276419\"]],\"sequential\":[[0.0,\"#0d0887\"],[0.1111111111111111,\"#46039f\"],[0.2222222222222222,\"#7201a8\"],[0.3333333333333333,\"#9c179e\"],[0.4444444444444444,\"#bd3786\"],[0.5555555555555556,\"#d8576b\"],[0.6666666666666666,\"#ed7953\"],[0.7777777777777778,\"#fb9f3a\"],[0.8888888888888888,\"#fdca26\"],[1.0,\"#f0f921\"]],\"sequentialminus\":[[0.0,\"#0d0887\"],[0.1111111111111111,\"#46039f\"],[0.2222222222222222,\"#7201a8\"],[0.3333333333333333,\"#9c179e\"],[0.4444444444444444,\"#bd3786\"],[0.5555555555555556,\"#d8576b\"],[0.6666666666666666,\"#ed7953\"],[0.7777777777777778,\"#fb9f3a\"],[0.8888888888888888,\"#fdca26\"],[1.0,\"#f0f921\"]]},\"colorway\":[\"#636efa\",\"#EF553B\",\"#00cc96\",\"#ab63fa\",\"#FFA15A\",\"#19d3f3\",\"#FF6692\",\"#B6E880\",\"#FF97FF\",\"#FECB52\"],\"font\":{\"color\":\"#2a3f5f\"},\"geo\":{\"bgcolor\":\"white\",\"lakecolor\":\"white\",\"landcolor\":\"white\",\"showlakes\":true,\"showland\":true,\"subunitcolor\":\"#C8D4E3\"},\"hoverlabel\":{\"align\":\"left\"},\"hovermode\":\"closest\",\"mapbox\":{\"style\":\"light\"},\"paper_bgcolor\":\"white\",\"plot_bgcolor\":\"white\",\"polar\":{\"angularaxis\":{\"gridcolor\":\"#EBF0F8\",\"linecolor\":\"#EBF0F8\",\"ticks\":\"\"},\"bgcolor\":\"white\",\"radialaxis\":{\"gridcolor\":\"#EBF0F8\",\"linecolor\":\"#EBF0F8\",\"ticks\":\"\"}},\"scene\":{\"xaxis\":{\"backgroundcolor\":\"white\",\"gridcolor\":\"#DFE8F3\",\"gridwidth\":2,\"linecolor\":\"#EBF0F8\",\"showbackground\":true,\"ticks\":\"\",\"zerolinecolor\":\"#EBF0F8\"},\"yaxis\":{\"backgroundcolor\":\"white\",\"gridcolor\":\"#DFE8F3\",\"gridwidth\":2,\"linecolor\":\"#EBF0F8\",\"showbackground\":true,\"ticks\":\"\",\"zerolinecolor\":\"#EBF0F8\"},\"zaxis\":{\"backgroundcolor\":\"white\",\"gridcolor\":\"#DFE8F3\",\"gridwidth\":2,\"linecolor\":\"#EBF0F8\",\"showbackground\":true,\"ticks\":\"\",\"zerolinecolor\":\"#EBF0F8\"}},\"shapedefaults\":{\"line\":{\"color\":\"#2a3f5f\"}},\"ternary\":{\"aaxis\":{\"gridcolor\":\"#DFE8F3\",\"linecolor\":\"#A2B1C6\",\"ticks\":\"\"},\"baxis\":{\"gridcolor\":\"#DFE8F3\",\"linecolor\":\"#A2B1C6\",\"ticks\":\"\"},\"bgcolor\":\"white\",\"caxis\":{\"gridcolor\":\"#DFE8F3\",\"linecolor\":\"#A2B1C6\",\"ticks\":\"\"}},\"title\":{\"x\":0.05},\"xaxis\":{\"automargin\":true,\"gridcolor\":\"#EBF0F8\",\"linecolor\":\"#EBF0F8\",\"ticks\":\"\",\"title\":{\"standoff\":15},\"zerolinecolor\":\"#EBF0F8\",\"zerolinewidth\":2},\"yaxis\":{\"automargin\":true,\"gridcolor\":\"#EBF0F8\",\"linecolor\":\"#EBF0F8\",\"ticks\":\"\",\"title\":{\"standoff\":15},\"zerolinecolor\":\"#EBF0F8\",\"zerolinewidth\":2}}},\"xaxis\":{\"title\":{\"text\":\"Month\"},\"showgrid\":false,\"showline\":true,\"linewidth\":1,\"linecolor\":\"black\",\"tickangle\":-45},\"yaxis\":{\"title\":{\"text\":\"Event Count\"},\"showgrid\":true,\"zeroline\":false},\"font\":{\"size\":12},\"title\":{\"text\":\"Events Over the Month by Manufacturer\"},\"legend\":{\"title\":{\"text\":\"Manufacturers\"}},\"hovermode\":\"x unified\"},                        {\"responsive\": true}                    ).then(function(){\n",
       "                            \n",
       "var gd = document.getElementById('001a1a98-11c3-4b98-ae30-aaa2ac67b1ef');\n",
       "var x = new MutationObserver(function (mutations, observer) {{\n",
       "        var display = window.getComputedStyle(gd).display;\n",
       "        if (!display || display === 'none') {{\n",
       "            console.log([gd, 'removed!']);\n",
       "            Plotly.purge(gd);\n",
       "            observer.disconnect();\n",
       "        }}\n",
       "}});\n",
       "\n",
       "// Listen for the removal of the full notebook cells\n",
       "var notebookContainer = gd.closest('#notebook-container');\n",
       "if (notebookContainer) {{\n",
       "    x.observe(notebookContainer, {childList: true});\n",
       "}}\n",
       "\n",
       "// Listen for the clearing of the current output cell\n",
       "var outputEl = gd.closest('.output');\n",
       "if (outputEl) {{\n",
       "    x.observe(outputEl, {childList: true});\n",
       "}}\n",
       "\n",
       "                        })                };                });            </script>        </div>"
      ]
     },
     "metadata": {},
     "output_type": "display_data"
    }
   ],
   "source": [
    "import pandas as pd\n",
    "import plotly.graph_objects as go\n",
    "\n",
    "# Load your data\n",
    "data = pd.read_csv(r\"C:\\Users\\raksh\\OneDrive\\Desktop\\Rakshita Sataraddi\\adverk\\adverse_events.csv\")\n",
    "\n",
    "# Ensure the 'Date of Event' column is in datetime format\n",
    "data['Date of Event'] = pd.to_datetime(data['Date of Event'], errors='coerce')\n",
    "\n",
    "# Drop rows with invalid dates\n",
    "data = data.dropna(subset=['Date of Event'])\n",
    "\n",
    "# Group data by month and manufacturer, and count events\n",
    "data['Month'] = data['Date of Event'].dt.to_period('M')\n",
    "monthly_data = data.groupby(['Month', 'Manufacturer Name']).size().reset_index(name='Event Count')\n",
    "\n",
    "# Create a wave-like graph using Plotly\n",
    "fig = go.Figure()\n",
    "\n",
    "# Define a list of distinct markers for different manufacturers\n",
    "markers = ['circle', 'square', 'diamond', 'triangle-up', 'triangle-down', 'cross', 'x', 'star', 'hexagon', 'hourglass']\n",
    "\n",
    "# Add a line for each manufacturer\n",
    "for i, manufacturer in enumerate(monthly_data['Manufacturer Name'].unique()):\n",
    "    manufacturer_data = monthly_data[monthly_data['Manufacturer Name'] == manufacturer]\n",
    "    fig.add_trace(go.Scatter(\n",
    "        x=manufacturer_data['Month'].astype(str),\n",
    "        y=manufacturer_data['Event Count'],\n",
    "        mode='lines+markers',\n",
    "        name=manufacturer,\n",
    "        line_shape='spline',  # Smooth the lines\n",
    "        marker=dict(symbol=markers[i % len(markers)], size=10),\n",
    "        hovertemplate=f'<b>{manufacturer}</b><br>Month: %{{x}}<br>Event Count: %{{y}}<extra></extra>'\n",
    "    ))\n",
    "\n",
    "# Customize layout for better visibility\n",
    "fig.update_layout(\n",
    "    title=\"Events Over the Month by Manufacturer\",\n",
    "    xaxis_title=\"Month\",\n",
    "    yaxis_title=\"Event Count\",\n",
    "    template=\"plotly_white\",\n",
    "    xaxis=dict(\n",
    "        showgrid=False,\n",
    "        showline=True,\n",
    "        linewidth=1,\n",
    "        linecolor='black',\n",
    "        tickangle=-45\n",
    "    ),\n",
    "    yaxis=dict(\n",
    "        showgrid=True,\n",
    "        zeroline=False\n",
    "    ),\n",
    "    legend_title=\"Manufacturers\",\n",
    "    font=dict(size=12),\n",
    "    hovermode=\"x unified\"\n",
    ")\n",
    "\n",
    "# Show the plot\n",
    "fig.show()\n"
   ]
  },
  {
   "cell_type": "code",
   "execution_count": 16,
   "id": "1927ca7b",
   "metadata": {},
   "outputs": [
    {
     "ename": "SyntaxError",
     "evalue": "invalid syntax (509670023.py, line 23)",
     "output_type": "error",
     "traceback": [
      "\u001b[1;36m  Cell \u001b[1;32mIn[16], line 23\u001b[1;36m\u001b[0m\n\u001b[1;33m    title=dict(<\u001b[0m\n\u001b[1;37m               ^\u001b[0m\n\u001b[1;31mSyntaxError\u001b[0m\u001b[1;31m:\u001b[0m invalid syntax\n"
     ]
    }
   ],
   "source": [
    "import plotly.graph_objects as go\n",
    "import numpy as np\n",
    "\n",
    "# Example Data\n",
    "forecast_percentage = 19  # Example forecasted percentage\n",
    "deviation = 13  # Deviation from the forecast\n",
    "is_above_forecast = deviation > 0\n",
    "trend_data = np.random.rand(30) * 10  # Example trend data (replace with actual)\n",
    "\n",
    "# Create figure\n",
    "fig = go.Figure()\n",
    "\n",
    "# Add line (sparkline)\n",
    "fig.add_trace(go.Scatter(\n",
    "    y=trend_data,\n",
    "    mode='lines',\n",
    "    line=dict(color='red', width=2),\n",
    "    showlegend=False\n",
    "))\n",
    "\n",
    "# Update layout to make it look like a card\n",
    "fig.update_layout(\n",
    "    title=dict(<\n",
    "        text=f\"<b>Expected Adverse Events</b><br>Forecast Analysis<br>{forecast_percentage}% \"\n",
    "             f\"<span style='color: {'red' if is_above_forecast else 'green'};'>\"\n",
    "             f\"{deviation}% {'Above' if is_above_forecast else 'Below'} Forecast</span>\",\n",
    "        x=0.5,\n",
    "        font=dict(size=16)\n",
    "    ),\n",
    "    xaxis=dict(visible=False),\n",
    "    yaxis=dict(visible=False),\n",
    "    height=400,  # Card height\n",
    "    width=500,   # Card width\n",
    "    margin=dict(l=10, r=10, t=50, b=10),\n",
    "    plot_bgcolor=\"white\"\n",
    ")\n",
    "\n",
    "# Show the figure\n",
    "fig.show()\n"
   ]
  },
  {
   "cell_type": "code",
   "execution_count": null,
   "id": "f6a98dfe",
   "metadata": {},
   "outputs": [],
   "source": []
  }
 ],
 "metadata": {
  "kernelspec": {
   "display_name": "Python 3 (ipykernel)",
   "language": "python",
   "name": "python3"
  },
  "language_info": {
   "codemirror_mode": {
    "name": "ipython",
    "version": 3
   },
   "file_extension": ".py",
   "mimetype": "text/x-python",
   "name": "python",
   "nbconvert_exporter": "python",
   "pygments_lexer": "ipython3",
   "version": "3.10.9"
  }
 },
 "nbformat": 4,
 "nbformat_minor": 5
}
